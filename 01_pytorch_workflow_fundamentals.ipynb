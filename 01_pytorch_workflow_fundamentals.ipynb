{
 "cells": [
  {
   "cell_type": "markdown",
   "metadata": {},
   "source": [
    "## PyTorch Workflow Fundamentals"
   ]
  },
  {
   "cell_type": "markdown",
   "metadata": {},
   "source": [
    "### Introduction to Pytorch workflow"
   ]
  },
  {
   "cell_type": "code",
   "execution_count": 1,
   "metadata": {},
   "outputs": [
    {
     "data": {
      "text/plain": [
       "{1: 'data (prepare and load)',\n",
       " 2: 'build model',\n",
       " 3: 'fitting the model to data(training)',\n",
       " 4: 'making predicitions and evaluating a model (inference)',\n",
       " 5: 'saving and loading a model',\n",
       " 6: 'putting it all together'}"
      ]
     },
     "execution_count": 1,
     "metadata": {},
     "output_type": "execute_result"
    }
   ],
   "source": [
    "what_were_covering = {1:'data (prepare and load)',\n",
    "                      2:'build model',\n",
    "                      3: 'fitting the model to data(training)',\n",
    "                      4: 'making predicitions and evaluating a model (inference)',\n",
    "                      5: 'saving and loading a model',\n",
    "                      6: 'putting it all together'}\n",
    "\n",
    "what_were_covering"
   ]
  },
  {
   "cell_type": "code",
   "execution_count": 2,
   "metadata": {},
   "outputs": [
    {
     "data": {
      "text/plain": [
       "'1.13.1+cu117'"
      ]
     },
     "execution_count": 2,
     "metadata": {},
     "output_type": "execute_result"
    }
   ],
   "source": [
    "import torch\n",
    "from torch import nn ## nn contains all of PyTorch's building blocks for neural networks\n",
    "import matplotlib.pyplot as plt\n",
    "\n",
    "# Check pytorch version\n",
    "torch.__version__"
   ]
  },
  {
   "cell_type": "markdown",
   "metadata": {},
   "source": [
    "#### 1. Data (preparing and loading)\n",
    "\n",
    "Data can be anything in machine learning.\n",
    "* Excel spreadsheet\n",
    "* Images of anykind\n",
    "* Videos\n",
    "* Text\n",
    "\n",
    "Machine learning is a game of two parts:\n",
    "1. Get data into a numerical representation.\n",
    "2. Build a model to learn patterns in that numerical representation.\n",
    "\n",
    "We'll use a linear regression formula to make a straight line with known parameters"
   ]
  },
  {
   "cell_type": "code",
   "execution_count": 3,
   "metadata": {},
   "outputs": [
    {
     "data": {
      "text/plain": [
       "(tensor([[0.0000],\n",
       "         [0.0200],\n",
       "         [0.0400],\n",
       "         [0.0600],\n",
       "         [0.0800],\n",
       "         [0.1000],\n",
       "         [0.1200],\n",
       "         [0.1400],\n",
       "         [0.1600],\n",
       "         [0.1800]]),\n",
       " tensor([[0.3000],\n",
       "         [0.3140],\n",
       "         [0.3280],\n",
       "         [0.3420],\n",
       "         [0.3560],\n",
       "         [0.3700],\n",
       "         [0.3840],\n",
       "         [0.3980],\n",
       "         [0.4120],\n",
       "         [0.4260]]))"
      ]
     },
     "execution_count": 3,
     "metadata": {},
     "output_type": "execute_result"
    }
   ],
   "source": [
    "# Create known paramaeters\n",
    "weight = 0.7\n",
    "bias = 0.3\n",
    "\n",
    "# Create Data\n",
    "start = 0\n",
    "end = 1\n",
    "step = 0.02\n",
    "\n",
    "X = torch.arange(start,end, step).unsqueeze(dim=1) # \"X\" is capital represents a tensor\n",
    "y = weight * X + bias\n",
    "\n",
    "X[:10], y[:10]"
   ]
  },
  {
   "cell_type": "code",
   "execution_count": 4,
   "metadata": {},
   "outputs": [
    {
     "data": {
      "text/plain": [
       "(50, 50)"
      ]
     },
     "execution_count": 4,
     "metadata": {},
     "output_type": "execute_result"
    }
   ],
   "source": [
    "len(X), len(y)"
   ]
  },
  {
   "cell_type": "markdown",
   "metadata": {},
   "source": [
    "##### Splitting data into training and testing sets"
   ]
  },
  {
   "cell_type": "code",
   "execution_count": 5,
   "metadata": {},
   "outputs": [
    {
     "data": {
      "text/plain": [
       "(40, 40, 10, 10)"
      ]
     },
     "execution_count": 5,
     "metadata": {},
     "output_type": "execute_result"
    }
   ],
   "source": [
    "# create a train/test split\n",
    "train_split = int(0.8 * len(X))\n",
    "X_train, y_train = X[:train_split], y[:train_split]\n",
    "X_test, y_test = X[train_split:], y[train_split:]\n",
    "\n",
    "len(X_train), len(y_train), len(X_test), len(y_test)"
   ]
  },
  {
   "cell_type": "markdown",
   "metadata": {},
   "source": [
    "How might we better visualize our data?\n",
    "\n",
    "This is where data explorer's motto come in!\n",
    "'Visualize, visualize, visualize!'"
   ]
  },
  {
   "cell_type": "code",
   "execution_count": 6,
   "metadata": {},
   "outputs": [],
   "source": [
    "def plot_predictions(train_data=X_train,\n",
    "                     train_labels= y_train,\n",
    "                     test_data=X_test,\n",
    "                     test_labels=y_test,\n",
    "                     prediction=None):\n",
    "    \"\"\"\n",
    "    Plots training data, test data and compares prediction.\n",
    "    \"\"\"\n",
    "    plt.figure(figsize=(10,7))\n",
    "\n",
    "    # Plot training data in blue\n",
    "    plt.scatter(train_data, train_labels, c='b', s=4, label='Training data')\n",
    "\n",
    "    # Plot testing data in green\n",
    "    plt.scatter(test_data, test_labels, c='g', s=4, label='Testing data')\n",
    "\n",
    "    # Prediction\n",
    "    if prediction is not None:\n",
    "        plt.scatter(test_data, prediction, c='r', s=4, label='Predictions')\n",
    "    \n",
    "    # Show the legend\n",
    "    plt.legend(prop={'size':14})"
   ]
  },
  {
   "cell_type": "code",
   "execution_count": 7,
   "metadata": {},
   "outputs": [
    {
     "data": {
      "image/png": "[encoded data removed]",
      "text/plain": [
       "<Figure size 1000x700 with 1 Axes>"
      ]
     },
     "metadata": {},
     "output_type": "display_data"
    }
   ],
   "source": [
    "plot_predictions()"
   ]
  },
  {
   "cell_type": "markdown",
   "metadata": {},
   "source": [
    "#### 2. Build model\n",
    "\n",
    "First pytorch model\n",
    "\n",
    "What are model does:\n",
    "* Start with random values (weight & bias)\n",
    "* Look at training data and adjust the random values to better represent (or get closer to) the ideal values (the weight & bias used to create the data).\n",
    "\n",
    "How does it do so?\n",
    "\n",
    "Through two main algorithms:\n",
    "1. Gradient Descent\n",
    "2. Backpropagation"
   ]
  },
  {
   "cell_type": "code",
   "execution_count": 8,
   "metadata": {},
   "outputs": [],
   "source": [
    "# Create linear regression model class\n",
    "# nn.module: base class for all neural network modules\n",
    "\n",
    "class LinearRegressionModel(nn.Module):\n",
    "    def __init__(self):\n",
    "        super().__init__()\n",
    "        self.weights = nn.Parameter(torch.randn(1,\n",
    "                                               requires_grad=True,\n",
    "                                               dtype=torch.float))\n",
    "        self.bias = nn.Parameter(torch.randn(1,\n",
    "                                              requires_grad=True,\n",
    "                                              dtype=torch.float))\n",
    "        \n",
    "    # Forward method to define the compuation in the model\n",
    "    # '->': is a function annotation\n",
    "    def forward(self, x: torch.Tensor) -> torch.Tensor:\n",
    "        return self.weights * x + self.bias"
   ]
  },
  {
   "cell_type": "markdown",
   "metadata": {},
   "source": [
    "##### PyTorch model building essentials\n",
    "\n",
    "* **torch.nn** - contains all the building for computational graphs(a neural network can be considered a computational graphs)\n",
    "* **torch.nn.Parameter** - what parameters should our model try and learn, often a Pytorch layer from torch.nn will set these for us\n",
    "* **torch.nn.Module** - The base class for all neural network modules, if you subclass it, you should overwrite forward().\n",
    "* **torch.optim** - this where the optimizers in pytorch live. will help the gradient descent.\n",
    "* **def forward()** - all nn.module subclasses require you to overwrite forward(), this method defines what happens in the forward computation."
   ]
  },
  {
   "cell_type": "markdown",
   "metadata": {},
   "source": [
    "##### Checking the contents of our Pytorch model\n",
    "\n",
    "Now we've created a model, lets see whats inside\n",
    "\n",
    "We can check our models parametrs using `.parameters()`"
   ]
  },
  {
   "cell_type": "code",
   "execution_count": 9,
   "metadata": {},
   "outputs": [
    {
     "data": {
      "text/plain": [
       "[Parameter containing:\n",
       " tensor([0.3367], requires_grad=True),\n",
       " Parameter containing:\n",
       " tensor([0.1288], requires_grad=True)]"
      ]
     },
     "execution_count": 9,
     "metadata": {},
     "output_type": "execute_result"
    }
   ],
   "source": [
    "# Create a random seed\n",
    "torch.manual_seed(42)\n",
    "\n",
    "# Create an instance of the model (this is a subclass of nn.Module)\n",
    "model_0 = LinearRegressionModel()\n",
    "\n",
    "# Checkout the parameters\n",
    "list(model_0.parameters())"
   ]
  },
  {
   "cell_type": "code",
   "execution_count": 10,
   "metadata": {},
   "outputs": [
    {
     "data": {
      "text/plain": [
       "OrderedDict([('weights', tensor([0.3367])), ('bias', tensor([0.1288]))])"
      ]
     },
     "execution_count": 10,
     "metadata": {},
     "output_type": "execute_result"
    }
   ],
   "source": [
    "# List named parameters\n",
    "model_0.state_dict()"
   ]
  },
  {
   "cell_type": "markdown",
   "metadata": {},
   "source": [
    "##### Making prediction using `torch.inference_mode()`\n",
    "\n",
    "To check our model's predictive power, let's see how well it predicts `y_test` and based on `X_test`\n",
    "\n",
    "When we pass data through our model, it's going to run it through the `forward()` method."
   ]
  },
  {
   "cell_type": "code",
   "execution_count": 11,
   "metadata": {},
   "outputs": [
    {
     "data": {
      "text/plain": [
       "tensor([[0.3982],\n",
       "        [0.4049],\n",
       "        [0.4116],\n",
       "        [0.4184],\n",
       "        [0.4251],\n",
       "        [0.4318],\n",
       "        [0.4386],\n",
       "        [0.4453],\n",
       "        [0.4520],\n",
       "        [0.4588]])"
      ]
     },
     "execution_count": 11,
     "metadata": {},
     "output_type": "execute_result"
    }
   ],
   "source": [
    "# Make predictions with model\n",
    "with torch.inference_mode(): # <= disables gradient descent and backend data\n",
    "    y_preds = model_0(X_test)\n",
    "\n",
    "y_preds"
   ]
  },
  {
   "cell_type": "code",
   "execution_count": 12,
   "metadata": {},
   "outputs": [
    {
     "data": {
      "image/png": "[encoded data removed]",
      "text/plain": [
       "<Figure size 1000x700 with 1 Axes>"
      ]
     },
     "metadata": {},
     "output_type": "display_data"
    }
   ],
   "source": [
    "plot_predictions(prediction=y_preds)"
   ]
  },
  {
   "cell_type": "markdown",
   "metadata": {},
   "source": [
    "#### 3. Train model\n",
    "\n",
    "The whole idea of training is for a model to move from some *unknown* parameters to some *known* parameters.\n",
    "\n",
    "Or in other words from a poor representation of the data to a better representation of data.\n",
    "\n",
    "One way to measure how poor or how wrong your models predictions are is to use a **loss function**.\n",
    "\n",
    "* Note: Loss function may also be called cost function or criterion in different areas. For now, we are going to refer to it as a loss function.\n",
    "\n",
    "Things we need to train:\n",
    "\n",
    "* **Loss function:** A function to measure how wrong your model's predictions are to the ideal outputs, lower is better.\n",
    "* **Optimizer:** Takes into account the loss of a model and adjusts the model's parameters (i.e. weight & bias) to improve the loss function.\n",
    "    * Inside the optimizers you'll often have to set two parameters:\n",
    "        * params - the model parameters\n",
    "        * lr - learning rate of the optimizer\n",
    "\n",
    "And specifically for pytorch, we need:\n",
    "* A training loop\n",
    "* A testing loop"
   ]
  },
  {
   "cell_type": "code",
   "execution_count": 13,
   "metadata": {},
   "outputs": [],
   "source": [
    "# Setup a loss function\n",
    "loss_fn = nn.L1Loss()\n",
    "\n",
    "\n",
    "# Setup an optimizer\n",
    "optimizer = torch.optim.SGD(params=model_0.parameters(), lr=0.0001) # lr = learning rate = one of the important hyperparameters (hyperparameters are parameters set by the researchers)"
   ]
  },
  {
   "cell_type": "markdown",
   "metadata": {},
   "source": [
    "##### Building a training loop and testing loop in pytorch\n",
    "\n",
    "A couple of things we need in a training loop:\n",
    "1. Loop through the data\n",
    "2. Forward pass (this involves data moving through our model's `forward()` functions) to make prediction on data - also called forward propagation\n",
    "3. Calculate the loss (compare forward pass predictions to ground truth labels)\n",
    "4. Optimizer zero grad\n",
    "5. Loss backwards - move backword through the network to calculate the gradients of each of the parameters of our model with respect to the loss (**backpropagation**)\n",
    "6. Optimizer step - use the optimizer to adjust our model's parameters to try and improve the loss (**gradient descent**)"
   ]
  },
  {
   "cell_type": "code",
   "execution_count": 34,
   "metadata": {},
   "outputs": [
    {
     "name": "stdout",
     "output_type": "stream",
     "text": [
      "Epoch: 0 | Loss: 0.174622043967247 | Test loss: 0.33273541927337646\n",
      "OrderedDict([('weights', tensor([0.3835])), ('bias', tensor([0.2489]))])\n",
      "Epoch: 10 | Loss: 0.1734698861837387 | Test loss: 0.3313881754875183\n",
      "OrderedDict([('weights', tensor([0.3839])), ('bias', tensor([0.2499]))])\n",
      "Epoch: 20 | Loss: 0.17231786251068115 | Test loss: 0.3300411105155945\n",
      "OrderedDict([('weights', tensor([0.3843])), ('bias', tensor([0.2509]))])\n",
      "Epoch: 30 | Loss: 0.1711658537387848 | Test loss: 0.32869404554367065\n",
      "OrderedDict([('weights', tensor([0.3847])), ('bias', tensor([0.2519]))])\n",
      "Epoch: 40 | Loss: 0.17001384496688843 | Test loss: 0.3273469805717468\n",
      "OrderedDict([('weights', tensor([0.3851])), ('bias', tensor([0.2529]))])\n",
      "Epoch: 50 | Loss: 0.16886183619499207 | Test loss: 0.3259999454021454\n",
      "OrderedDict([('weights', tensor([0.3855])), ('bias', tensor([0.2539]))])\n",
      "Epoch: 60 | Loss: 0.1677098125219345 | Test loss: 0.32465288043022156\n",
      "OrderedDict([('weights', tensor([0.3859])), ('bias', tensor([0.2549]))])\n",
      "Epoch: 70 | Loss: 0.16655781865119934 | Test loss: 0.32330575585365295\n",
      "OrderedDict([('weights', tensor([0.3863])), ('bias', tensor([0.2559]))])\n",
      "Epoch: 80 | Loss: 0.16540579497814178 | Test loss: 0.3219586908817291\n",
      "OrderedDict([('weights', tensor([0.3867])), ('bias', tensor([0.2569]))])\n",
      "Epoch: 90 | Loss: 0.16425378620624542 | Test loss: 0.3206116557121277\n",
      "OrderedDict([('weights', tensor([0.3871])), ('bias', tensor([0.2579]))])\n",
      "Epoch: 100 | Loss: 0.16310177743434906 | Test loss: 0.31926456093788147\n",
      "OrderedDict([('weights', tensor([0.3874])), ('bias', tensor([0.2589]))])\n",
      "Epoch: 110 | Loss: 0.1619497537612915 | Test loss: 0.31791752576828003\n",
      "OrderedDict([('weights', tensor([0.3878])), ('bias', tensor([0.2599]))])\n",
      "Epoch: 120 | Loss: 0.16079774498939514 | Test loss: 0.3165704607963562\n",
      "OrderedDict([('weights', tensor([0.3882])), ('bias', tensor([0.2609]))])\n",
      "Epoch: 130 | Loss: 0.15964575111865997 | Test loss: 0.3152233958244324\n",
      "OrderedDict([('weights', tensor([0.3886])), ('bias', tensor([0.2619]))])\n",
      "Epoch: 140 | Loss: 0.15849372744560242 | Test loss: 0.31387633085250854\n",
      "OrderedDict([('weights', tensor([0.3890])), ('bias', tensor([0.2629]))])\n",
      "Epoch: 150 | Loss: 0.15734171867370605 | Test loss: 0.3125292658805847\n",
      "OrderedDict([('weights', tensor([0.3894])), ('bias', tensor([0.2639]))])\n",
      "Epoch: 160 | Loss: 0.1561896950006485 | Test loss: 0.3111822009086609\n",
      "OrderedDict([('weights', tensor([0.3898])), ('bias', tensor([0.2649]))])\n",
      "Epoch: 170 | Loss: 0.15503768622875214 | Test loss: 0.30983513593673706\n",
      "OrderedDict([('weights', tensor([0.3902])), ('bias', tensor([0.2659]))])\n",
      "Epoch: 180 | Loss: 0.15388567745685577 | Test loss: 0.30848804116249084\n",
      "OrderedDict([('weights', tensor([0.3906])), ('bias', tensor([0.2669]))])\n",
      "Epoch: 190 | Loss: 0.1527336686849594 | Test loss: 0.307140976190567\n",
      "OrderedDict([('weights', tensor([0.3910])), ('bias', tensor([0.2679]))])\n",
      "Epoch: 200 | Loss: 0.15158167481422424 | Test loss: 0.3057939112186432\n",
      "OrderedDict([('weights', tensor([0.3913])), ('bias', tensor([0.2689]))])\n",
      "Epoch: 210 | Loss: 0.1504296511411667 | Test loss: 0.304446816444397\n",
      "OrderedDict([('weights', tensor([0.3917])), ('bias', tensor([0.2699]))])\n",
      "Epoch: 220 | Loss: 0.14927762746810913 | Test loss: 0.30309978127479553\n",
      "OrderedDict([('weights', tensor([0.3921])), ('bias', tensor([0.2709]))])\n",
      "Epoch: 230 | Loss: 0.14812563359737396 | Test loss: 0.3017526865005493\n",
      "OrderedDict([('weights', tensor([0.3925])), ('bias', tensor([0.2719]))])\n",
      "Epoch: 240 | Loss: 0.1469736099243164 | Test loss: 0.3004056215286255\n",
      "OrderedDict([('weights', tensor([0.3929])), ('bias', tensor([0.2729]))])\n",
      "Epoch: 250 | Loss: 0.14582160115242004 | Test loss: 0.29905855655670166\n",
      "OrderedDict([('weights', tensor([0.3933])), ('bias', tensor([0.2739]))])\n",
      "Epoch: 260 | Loss: 0.14466959238052368 | Test loss: 0.29771149158477783\n",
      "OrderedDict([('weights', tensor([0.3937])), ('bias', tensor([0.2749]))])\n",
      "Epoch: 270 | Loss: 0.14351758360862732 | Test loss: 0.2963644564151764\n",
      "OrderedDict([('weights', tensor([0.3941])), ('bias', tensor([0.2759]))])\n",
      "Epoch: 280 | Loss: 0.14236557483673096 | Test loss: 0.29501739144325256\n",
      "OrderedDict([('weights', tensor([0.3945])), ('bias', tensor([0.2769]))])\n",
      "Epoch: 290 | Loss: 0.1412135511636734 | Test loss: 0.29367026686668396\n",
      "OrderedDict([('weights', tensor([0.3949])), ('bias', tensor([0.2779]))])\n",
      "Epoch: 300 | Loss: 0.14006154239177704 | Test loss: 0.2923232614994049\n",
      "OrderedDict([('weights', tensor([0.3952])), ('bias', tensor([0.2789]))])\n",
      "Epoch: 310 | Loss: 0.13890953361988068 | Test loss: 0.2909761369228363\n",
      "OrderedDict([('weights', tensor([0.3956])), ('bias', tensor([0.2799]))])\n",
      "Epoch: 320 | Loss: 0.13775750994682312 | Test loss: 0.2896290719509125\n",
      "OrderedDict([('weights', tensor([0.3960])), ('bias', tensor([0.2809]))])\n",
      "Epoch: 330 | Loss: 0.13660551607608795 | Test loss: 0.28828200697898865\n",
      "OrderedDict([('weights', tensor([0.3964])), ('bias', tensor([0.2819]))])\n",
      "Epoch: 340 | Loss: 0.1354534924030304 | Test loss: 0.2869349718093872\n",
      "OrderedDict([('weights', tensor([0.3968])), ('bias', tensor([0.2829]))])\n",
      "Epoch: 350 | Loss: 0.13430148363113403 | Test loss: 0.2855879068374634\n",
      "OrderedDict([('weights', tensor([0.3972])), ('bias', tensor([0.2839]))])\n",
      "Epoch: 360 | Loss: 0.13314947485923767 | Test loss: 0.28424081206321716\n",
      "OrderedDict([('weights', tensor([0.3976])), ('bias', tensor([0.2849]))])\n",
      "Epoch: 370 | Loss: 0.13199745118618011 | Test loss: 0.2828937768936157\n",
      "OrderedDict([('weights', tensor([0.3980])), ('bias', tensor([0.2859]))])\n",
      "Epoch: 380 | Loss: 0.13084545731544495 | Test loss: 0.2815466523170471\n",
      "OrderedDict([('weights', tensor([0.3984])), ('bias', tensor([0.2869]))])\n",
      "Epoch: 390 | Loss: 0.1296934336423874 | Test loss: 0.2801996171474457\n",
      "OrderedDict([('weights', tensor([0.3988])), ('bias', tensor([0.2879]))])\n",
      "Epoch: 400 | Loss: 0.12854143977165222 | Test loss: 0.27885255217552185\n",
      "OrderedDict([('weights', tensor([0.3991])), ('bias', tensor([0.2889]))])\n",
      "Epoch: 410 | Loss: 0.12738941609859467 | Test loss: 0.27750545740127563\n",
      "OrderedDict([('weights', tensor([0.3995])), ('bias', tensor([0.2899]))])\n",
      "Epoch: 420 | Loss: 0.1262374073266983 | Test loss: 0.2761583924293518\n",
      "OrderedDict([('weights', tensor([0.3999])), ('bias', tensor([0.2909]))])\n",
      "Epoch: 430 | Loss: 0.12508539855480194 | Test loss: 0.274811327457428\n",
      "OrderedDict([('weights', tensor([0.4003])), ('bias', tensor([0.2919]))])\n",
      "Epoch: 440 | Loss: 0.12393335998058319 | Test loss: 0.27346426248550415\n",
      "OrderedDict([('weights', tensor([0.4007])), ('bias', tensor([0.2929]))])\n",
      "Epoch: 450 | Loss: 0.12278135865926743 | Test loss: 0.2721172273159027\n",
      "OrderedDict([('weights', tensor([0.4011])), ('bias', tensor([0.2939]))])\n",
      "Epoch: 460 | Loss: 0.12162934243679047 | Test loss: 0.2707701623439789\n",
      "OrderedDict([('weights', tensor([0.4015])), ('bias', tensor([0.2949]))])\n",
      "Epoch: 470 | Loss: 0.1204773411154747 | Test loss: 0.2694230377674103\n",
      "OrderedDict([('weights', tensor([0.4019])), ('bias', tensor([0.2959]))])\n",
      "Epoch: 480 | Loss: 0.11932532489299774 | Test loss: 0.26807600259780884\n",
      "OrderedDict([('weights', tensor([0.4023])), ('bias', tensor([0.2969]))])\n",
      "Epoch: 490 | Loss: 0.11817331612110138 | Test loss: 0.2667289078235626\n",
      "OrderedDict([('weights', tensor([0.4027])), ('bias', tensor([0.2979]))])\n",
      "Epoch: 500 | Loss: 0.11702130734920502 | Test loss: 0.2653818726539612\n",
      "OrderedDict([('weights', tensor([0.4030])), ('bias', tensor([0.2989]))])\n",
      "Epoch: 510 | Loss: 0.11586929857730865 | Test loss: 0.26403480768203735\n",
      "OrderedDict([('weights', tensor([0.4034])), ('bias', tensor([0.2999]))])\n",
      "Epoch: 520 | Loss: 0.11479532718658447 | Test loss: 0.26273253560066223\n",
      "OrderedDict([('weights', tensor([0.4038])), ('bias', tensor([0.3009]))])\n",
      "Epoch: 530 | Loss: 0.11374060064554214 | Test loss: 0.26143524050712585\n",
      "OrderedDict([('weights', tensor([0.4042])), ('bias', tensor([0.3018]))])\n",
      "Epoch: 540 | Loss: 0.11268587410449982 | Test loss: 0.2601379454135895\n",
      "OrderedDict([('weights', tensor([0.4046])), ('bias', tensor([0.3028]))])\n",
      "Epoch: 550 | Loss: 0.1116311326622963 | Test loss: 0.2588406205177307\n",
      "OrderedDict([('weights', tensor([0.4050])), ('bias', tensor([0.3037]))])\n",
      "Epoch: 560 | Loss: 0.11057639122009277 | Test loss: 0.25754329562187195\n",
      "OrderedDict([('weights', tensor([0.4054])), ('bias', tensor([0.3047]))])\n",
      "Epoch: 570 | Loss: 0.10952164977788925 | Test loss: 0.25624600052833557\n",
      "OrderedDict([('weights', tensor([0.4058])), ('bias', tensor([0.3056]))])\n",
      "Epoch: 580 | Loss: 0.1085236445069313 | Test loss: 0.2549845278263092\n",
      "OrderedDict([('weights', tensor([0.4062])), ('bias', tensor([0.3065]))])\n",
      "Epoch: 590 | Loss: 0.10756231844425201 | Test loss: 0.2537383735179901\n",
      "OrderedDict([('weights', tensor([0.4066])), ('bias', tensor([0.3074]))])\n",
      "Epoch: 600 | Loss: 0.10660099983215332 | Test loss: 0.25249215960502625\n",
      "OrderedDict([('weights', tensor([0.4069])), ('bias', tensor([0.3083]))])\n",
      "Epoch: 610 | Loss: 0.10563969612121582 | Test loss: 0.25124603509902954\n",
      "OrderedDict([('weights', tensor([0.4073])), ('bias', tensor([0.3092]))])\n",
      "Epoch: 620 | Loss: 0.10467837005853653 | Test loss: 0.24999985098838806\n",
      "OrderedDict([('weights', tensor([0.4077])), ('bias', tensor([0.3101]))])\n",
      "Epoch: 630 | Loss: 0.10371705144643784 | Test loss: 0.24875369668006897\n",
      "OrderedDict([('weights', tensor([0.4081])), ('bias', tensor([0.3110]))])\n",
      "Epoch: 640 | Loss: 0.10276877880096436 | Test loss: 0.24751785397529602\n",
      "OrderedDict([('weights', tensor([0.4085])), ('bias', tensor([0.3119]))])\n",
      "Epoch: 650 | Loss: 0.10189647972583771 | Test loss: 0.24632331728935242\n",
      "OrderedDict([('weights', tensor([0.4089])), ('bias', tensor([0.3128]))])\n",
      "Epoch: 660 | Loss: 0.10102419555187225 | Test loss: 0.2451288253068924\n",
      "OrderedDict([('weights', tensor([0.4093])), ('bias', tensor([0.3136]))])\n",
      "Epoch: 670 | Loss: 0.1001519113779068 | Test loss: 0.24393431842327118\n",
      "OrderedDict([('weights', tensor([0.4097])), ('bias', tensor([0.3145]))])\n",
      "Epoch: 680 | Loss: 0.09927962720394135 | Test loss: 0.2427397519350052\n",
      "OrderedDict([('weights', tensor([0.4101])), ('bias', tensor([0.3153]))])\n",
      "Epoch: 690 | Loss: 0.0984073281288147 | Test loss: 0.24154527485370636\n",
      "OrderedDict([('weights', tensor([0.4104])), ('bias', tensor([0.3162]))])\n",
      "Epoch: 700 | Loss: 0.09753505140542984 | Test loss: 0.24035079777240753\n",
      "OrderedDict([('weights', tensor([0.4108])), ('bias', tensor([0.3170]))])\n",
      "Epoch: 710 | Loss: 0.09670595079660416 | Test loss: 0.2391880750656128\n",
      "OrderedDict([('weights', tensor([0.4112])), ('bias', tensor([0.3178]))])\n",
      "Epoch: 720 | Loss: 0.09591863304376602 | Test loss: 0.2380465269088745\n",
      "OrderedDict([('weights', tensor([0.4116])), ('bias', tensor([0.3186]))])\n",
      "Epoch: 730 | Loss: 0.09513132274150848 | Test loss: 0.23690500855445862\n",
      "OrderedDict([('weights', tensor([0.4120])), ('bias', tensor([0.3194]))])\n",
      "Epoch: 740 | Loss: 0.09434400498867035 | Test loss: 0.23576350510120392\n",
      "OrderedDict([('weights', tensor([0.4124])), ('bias', tensor([0.3202]))])\n",
      "Epoch: 750 | Loss: 0.09355668723583221 | Test loss: 0.23462197184562683\n",
      "OrderedDict([('weights', tensor([0.4127])), ('bias', tensor([0.3210]))])\n",
      "Epoch: 760 | Loss: 0.09276936948299408 | Test loss: 0.23348042368888855\n",
      "OrderedDict([('weights', tensor([0.4131])), ('bias', tensor([0.3218]))])\n",
      "Epoch: 770 | Loss: 0.09198205173015594 | Test loss: 0.23233893513679504\n",
      "OrderedDict([('weights', tensor([0.4135])), ('bias', tensor([0.3226]))])\n",
      "Epoch: 780 | Loss: 0.09123730659484863 | Test loss: 0.23122933506965637\n",
      "OrderedDict([('weights', tensor([0.4139])), ('bias', tensor([0.3234]))])\n",
      "Epoch: 790 | Loss: 0.09053032100200653 | Test loss: 0.23014101386070251\n",
      "OrderedDict([('weights', tensor([0.4143])), ('bias', tensor([0.3242]))])\n",
      "Epoch: 800 | Loss: 0.08982332795858383 | Test loss: 0.22905269265174866\n",
      "OrderedDict([('weights', tensor([0.4147])), ('bias', tensor([0.3249]))])\n",
      "Epoch: 810 | Loss: 0.08911634981632233 | Test loss: 0.22796443104743958\n",
      "OrderedDict([('weights', tensor([0.4150])), ('bias', tensor([0.3257]))])\n",
      "Epoch: 820 | Loss: 0.08840936422348022 | Test loss: 0.22687609493732452\n",
      "OrderedDict([('weights', tensor([0.4154])), ('bias', tensor([0.3264]))])\n",
      "Epoch: 830 | Loss: 0.08770237863063812 | Test loss: 0.22578778862953186\n",
      "OrderedDict([('weights', tensor([0.4158])), ('bias', tensor([0.3272]))])\n",
      "Epoch: 840 | Loss: 0.08699538558721542 | Test loss: 0.2246994972229004\n",
      "OrderedDict([('weights', tensor([0.4162])), ('bias', tensor([0.3279]))])\n",
      "Epoch: 850 | Loss: 0.08630740642547607 | Test loss: 0.22362756729125977\n",
      "OrderedDict([('weights', tensor([0.4166])), ('bias', tensor([0.3286]))])\n",
      "Epoch: 860 | Loss: 0.08567677438259125 | Test loss: 0.22259381413459778\n",
      "OrderedDict([('weights', tensor([0.4169])), ('bias', tensor([0.3293]))])\n",
      "Epoch: 870 | Loss: 0.08504614233970642 | Test loss: 0.22156009078025818\n",
      "OrderedDict([('weights', tensor([0.4173])), ('bias', tensor([0.3300]))])\n",
      "Epoch: 880 | Loss: 0.0844155102968216 | Test loss: 0.22052636742591858\n",
      "OrderedDict([('weights', tensor([0.4177])), ('bias', tensor([0.3307]))])\n",
      "Epoch: 890 | Loss: 0.08378488570451736 | Test loss: 0.21949262917041779\n",
      "OrderedDict([('weights', tensor([0.4181])), ('bias', tensor([0.3314]))])\n",
      "Epoch: 900 | Loss: 0.08315424621105194 | Test loss: 0.21845892071723938\n",
      "OrderedDict([('weights', tensor([0.4184])), ('bias', tensor([0.3321]))])\n",
      "Epoch: 910 | Loss: 0.08252362161874771 | Test loss: 0.2174251526594162\n",
      "OrderedDict([('weights', tensor([0.4188])), ('bias', tensor([0.3328]))])\n",
      "Epoch: 920 | Loss: 0.08189298212528229 | Test loss: 0.2163914442062378\n",
      "OrderedDict([('weights', tensor([0.4192])), ('bias', tensor([0.3335]))])\n",
      "Epoch: 930 | Loss: 0.08130882680416107 | Test loss: 0.2153964787721634\n",
      "OrderedDict([('weights', tensor([0.4195])), ('bias', tensor([0.3342]))])\n",
      "Epoch: 940 | Loss: 0.08075019717216492 | Test loss: 0.21441809833049774\n",
      "OrderedDict([('weights', tensor([0.4199])), ('bias', tensor([0.3349]))])\n",
      "Epoch: 950 | Loss: 0.08019156754016876 | Test loss: 0.21343974769115448\n",
      "OrderedDict([('weights', tensor([0.4203])), ('bias', tensor([0.3355]))])\n",
      "Epoch: 960 | Loss: 0.07963293045759201 | Test loss: 0.21246139705181122\n",
      "OrderedDict([('weights', tensor([0.4207])), ('bias', tensor([0.3362]))])\n",
      "Epoch: 970 | Loss: 0.07907428592443466 | Test loss: 0.21148303151130676\n",
      "OrderedDict([('weights', tensor([0.4210])), ('bias', tensor([0.3368]))])\n",
      "Epoch: 980 | Loss: 0.07851565629243851 | Test loss: 0.2105046808719635\n",
      "OrderedDict([('weights', tensor([0.4214])), ('bias', tensor([0.3375]))])\n",
      "Epoch: 990 | Loss: 0.07795701920986176 | Test loss: 0.20952634513378143\n",
      "OrderedDict([('weights', tensor([0.4218])), ('bias', tensor([0.3381]))])\n"
     ]
    }
   ],
   "source": [
    "# An epoch is one loop through the data... (epoch is a hyperparameters)\n",
    "epochs = 1000\n",
    "\n",
    "# Track different vlaues\n",
    "epoch_count = []\n",
    "train_loss_values = []\n",
    "test_loss_values = []\n",
    "\n",
    "# step 1. loop through the data\n",
    "for epoch in range(epochs):\n",
    "    # set the model to training mode\n",
    "    model_0.train() # training mode in pytorch sets all parameters that require gradients to require gradients\n",
    "\n",
    "    # 1. Forward pass\n",
    "    y_pred = model_0(X_train)\n",
    "\n",
    "    # 2. Calculate the loss\n",
    "    loss = loss_fn(y_pred, y_train)\n",
    "\n",
    "    # 3. Optimizer zero grad\n",
    "    optimizer.zero_grad()\n",
    "\n",
    "    # 4. Perform backpropagation on the loss with respect to the parameters of the model\n",
    "    loss.backward()\n",
    "\n",
    "    # 5. Step the optimizer (perform gradient descent)\n",
    "    optimizer.step() # by default how the optimzier changes will acculmulate through the loop so.. we have to zero them above in step 3 for the next iteration of the loop\n",
    "\n",
    "    # Testing\n",
    "    model_0.eval() # turns off gradient tracking\n",
    "    with torch.inference_mode():\n",
    "        # 1. Do the forward pass\n",
    "        test_pred = model_0(X_test)\n",
    "\n",
    "        # 2. Calculate the loss\n",
    "        test_loss = loss_fn(test_pred, y_test)\n",
    "    \n",
    "    # Prints what's happening\n",
    "    if epoch % 10 == 0:\n",
    "        epoch_count.append(epoch)\n",
    "        train_loss_values.append(loss)\n",
    "        test_loss_values.append(test_loss)\n",
    "        print(f'Epoch: {epoch} | Loss: {loss} | Test loss: {test_loss}')\n",
    "        print(model_0.state_dict())\n"
   ]
  },
  {
   "cell_type": "code",
   "execution_count": 35,
   "metadata": {},
   "outputs": [
    {
     "data": {
      "text/plain": [
       "array([0.17462204, 0.17346989, 0.17231786, 0.17116585, 0.17001384,\n",
       "       0.16886184, 0.16770981, 0.16655782, 0.1654058 , 0.16425379,\n",
       "       0.16310178, 0.16194975, 0.16079774, 0.15964575, 0.15849373,\n",
       "       0.15734172, 0.1561897 , 0.15503769, 0.15388568, 0.15273367,\n",
       "       0.15158167, 0.15042965, 0.14927763, 0.14812563, 0.14697361,\n",
       "       0.1458216 , 0.14466959, 0.14351758, 0.14236557, 0.14121355,\n",
       "       0.14006154, 0.13890953, 0.13775751, 0.13660552, 0.13545349,\n",
       "       0.13430148, 0.13314947, 0.13199745, 0.13084546, 0.12969343,\n",
       "       0.12854144, 0.12738942, 0.1262374 , 0.1250854 , 0.12393336,\n",
       "       0.12278136, 0.12162934, 0.12047734, 0.11932532, 0.11817332,\n",
       "       0.11702131, 0.1158693 , 0.11479533, 0.1137406 , 0.11268587,\n",
       "       0.11163113, 0.11057639, 0.10952165, 0.10852364, 0.10756232,\n",
       "       0.106601  , 0.1056397 , 0.10467837, 0.10371705, 0.10276878,\n",
       "       0.10189648, 0.1010242 , 0.10015191, 0.09927963, 0.09840733,\n",
       "       0.09753505, 0.09670595, 0.09591863, 0.09513132, 0.094344  ,\n",
       "       0.09355669, 0.09276937, 0.09198205, 0.09123731, 0.09053032,\n",
       "       0.08982333, 0.08911635, 0.08840936, 0.08770238, 0.08699539,\n",
       "       0.08630741, 0.08567677, 0.08504614, 0.08441551, 0.08378489,\n",
       "       0.08315425, 0.08252362, 0.08189298, 0.08130883, 0.0807502 ,\n",
       "       0.08019157, 0.07963293, 0.07907429, 0.07851566, 0.07795702],\n",
       "      dtype=float32)"
      ]
     },
     "execution_count": 35,
     "metadata": {},
     "output_type": "execute_result"
    }
   ],
   "source": [
    "import numpy as np\n",
    "np.array(torch.tensor(train_loss_values).detach().numpy())"
   ]
  },
  {
   "cell_type": "code",
   "execution_count": 33,
   "metadata": {},
   "outputs": [
    {
     "data": {
      "text/plain": [
       "[<matplotlib.lines.Line2D at 0x1cadfe84c70>]"
      ]
     },
     "execution_count": 33,
     "metadata": {},
     "output_type": "execute_result"
    },
    {
     "data": {
      "image/png": "[encoded data removed]",
      "text/plain": [
       "<Figure size 640x480 with 1 Axes>"
      ]
     },
     "metadata": {},
     "output_type": "display_data"
    }
   ],
   "source": [
    "# Plot loss curve\n",
    "'''\n",
    "if converging: model is on right track\n",
    "if diverging or not converging: model has problem\n",
    "'''\n",
    "plt.plot(epoch_count, np.array(torch.tensor(train_loss_values).detach().numpy()), label='Train loss')\n",
    "plt.plot(epoch_count, np.array(test_loss_values), label='Test Loss')"
   ]
  },
  {
   "cell_type": "code",
   "execution_count": 36,
   "metadata": {},
   "outputs": [
    {
     "data": {
      "image/png": "[encoded data removed]",
      "text/plain": [
       "<Figure size 1000x700 with 1 Axes>"
      ]
     },
     "metadata": {},
     "output_type": "display_data"
    }
   ],
   "source": [
    "with torch.inference_mode():\n",
    "    y_preds_new = model_0(X_test)\n",
    "plot_predictions(prediction=y_preds_new)"
   ]
  },
  {
   "cell_type": "code",
   "execution_count": null,
   "metadata": {},
   "outputs": [
    {
     "data": {
      "text/plain": [
       "(0.7, 0.3)"
      ]
     },
     "execution_count": 76,
     "metadata": {},
     "output_type": "execute_result"
    }
   ],
   "source": [
    "weight, bias"
   ]
  },
  {
   "cell_type": "code",
   "execution_count": null,
   "metadata": {},
   "outputs": [
    {
     "data": {
      "image/png": "[encoded data removed]",
      "text/plain": [
       "<Figure size 1000x700 with 1 Axes>"
      ]
     },
     "metadata": {},
     "output_type": "display_data"
    }
   ],
   "source": [
    "plot_predictions(prediction=y_preds_new)"
   ]
  },
  {
   "cell_type": "markdown",
   "metadata": {},
   "source": [
    "### Saving a model in pytorch\n",
    "\n",
    "There are three main methods you should about for saving and loading models in PyTorch.\n",
    "\n",
    "1. `torch.save()` - allows you to save a PyTorch object in Python's pickle format\n",
    "2. `torch.load()` - allows you load a saved PyTorch object\n",
    "3. `torch.nn.Module.load_state_dict` - this allows to laod a model's saved state dictionary"
   ]
  },
  {
   "cell_type": "code",
   "execution_count": 40,
   "metadata": {},
   "outputs": [],
   "source": [
    "# Saving our PyTorch model\n",
    "from pathlib import Path\n",
    "\n",
    "# 1. Create model directory\n",
    "MODEL_PATH = Path('models')\n",
    "MODEL_PATH.mkdir(parents=True, exist_ok=True)\n",
    "\n",
    "# 2. Create model save path\n",
    "MODEL_NAME = '01_python_workflow_model_0.pth'\n",
    "MODEL_SAVE_PATH = MODEL_PATH / MODEL_NAME\n",
    "\n",
    "# 3. Save the model state dict\n",
    "torch.save(model_0.state_dict(), MODEL_SAVE_PATH)"
   ]
  },
  {
   "cell_type": "code",
   "execution_count": null,
   "metadata": {},
   "outputs": [],
   "source": []
  }
 ],
 "metadata": {
  "kernelspec": {
   "display_name": "Python 3",
   "language": "python",
   "name": "python3"
  },
  "language_info": {
   "codemirror_mode": {
    "name": "ipython",
    "version": 3
   },
   "file_extension": ".py",
   "mimetype": "text/x-python",
   "name": "python",
   "nbconvert_exporter": "python",
   "pygments_lexer": "ipython3",
   "version": "3.10.7"
  }
 },
 "nbformat": 4,
 "nbformat_minor": 2
}
