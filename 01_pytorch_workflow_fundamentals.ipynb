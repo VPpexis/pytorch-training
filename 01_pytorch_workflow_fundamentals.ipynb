{
 "cells": [
  {
   "cell_type": "markdown",
   "metadata": {},
   "source": [
    "## PyTorch Workflow Fundamentals"
   ]
  },
  {
   "cell_type": "markdown",
   "metadata": {},
   "source": [
    "### Introduction to Pytorch workflow"
   ]
  },
  {
   "cell_type": "code",
   "execution_count": 1,
   "metadata": {},
   "outputs": [
    {
     "data": {
      "text/plain": [
       "{1: 'data (prepare and load)',\n",
       " 2: 'build model',\n",
       " 3: 'fitting the model to data(training)',\n",
       " 4: 'making predicitions and evaluating a model (inference)',\n",
       " 5: 'saving and loading a model',\n",
       " 6: 'putting it all together'}"
      ]
     },
     "execution_count": 1,
     "metadata": {},
     "output_type": "execute_result"
    }
   ],
   "source": [
    "what_were_covering = {1:'data (prepare and load)',\n",
    "                      2:'build model',\n",
    "                      3: 'fitting the model to data(training)',\n",
    "                      4: 'making predicitions and evaluating a model (inference)',\n",
    "                      5: 'saving and loading a model',\n",
    "                      6: 'putting it all together'}\n",
    "\n",
    "what_were_covering"
   ]
  },
  {
   "cell_type": "code",
   "execution_count": 2,
   "metadata": {},
   "outputs": [
    {
     "data": {
      "text/plain": [
       "'2.1.1'"
      ]
     },
     "execution_count": 2,
     "metadata": {},
     "output_type": "execute_result"
    }
   ],
   "source": [
    "import torch\n",
    "from torch import nn ## nn contains all of PyTorch's building blocks for neural networks\n",
    "import matplotlib.pyplot as plt\n",
    "\n",
    "# Check pytorch version\n",
    "torch.__version__"
   ]
  },
  {
   "cell_type": "markdown",
   "metadata": {},
   "source": [
    "#### 1. Data (preparing and loading)\n",
    "\n",
    "Data can be anything in machine learning.\n",
    "* Excel spreadsheet\n",
    "* Images of anykind\n",
    "* Videos\n",
    "* Text\n",
    "\n",
    "Machine learning is a game of two parts:\n",
    "1. Get data into a numerical representation.\n",
    "2. Build a model to learn patterns in that numerical representation.\n",
    "\n",
    "We'll use a linear regression formula to make a straight line with known parameters"
   ]
  },
  {
   "cell_type": "code",
   "execution_count": 3,
   "metadata": {},
   "outputs": [
    {
     "data": {
      "text/plain": [
       "(tensor([[0.0000],\n",
       "         [0.0200],\n",
       "         [0.0400],\n",
       "         [0.0600],\n",
       "         [0.0800],\n",
       "         [0.1000],\n",
       "         [0.1200],\n",
       "         [0.1400],\n",
       "         [0.1600],\n",
       "         [0.1800]]),\n",
       " tensor([[0.3000],\n",
       "         [0.3140],\n",
       "         [0.3280],\n",
       "         [0.3420],\n",
       "         [0.3560],\n",
       "         [0.3700],\n",
       "         [0.3840],\n",
       "         [0.3980],\n",
       "         [0.4120],\n",
       "         [0.4260]]))"
      ]
     },
     "execution_count": 3,
     "metadata": {},
     "output_type": "execute_result"
    }
   ],
   "source": [
    "# Create known paramaeters\n",
    "weight = 0.7\n",
    "bias = 0.3\n",
    "\n",
    "# Create Data\n",
    "start = 0\n",
    "end = 1\n",
    "step = 0.02\n",
    "\n",
    "X = torch.arange(start,end, step).unsqueeze(dim=1) # \"X\" is capital represents a tensor\n",
    "y = weight * X + bias\n",
    "\n",
    "X[:10], y[:10]"
   ]
  },
  {
   "cell_type": "code",
   "execution_count": 4,
   "metadata": {},
   "outputs": [
    {
     "data": {
      "text/plain": [
       "(50, 50)"
      ]
     },
     "execution_count": 4,
     "metadata": {},
     "output_type": "execute_result"
    }
   ],
   "source": [
    "len(X), len(y)"
   ]
  },
  {
   "cell_type": "markdown",
   "metadata": {},
   "source": [
    "##### Splitting data into training and testing sets"
   ]
  },
  {
   "cell_type": "code",
   "execution_count": 5,
   "metadata": {},
   "outputs": [
    {
     "data": {
      "text/plain": [
       "(40, 40, 10, 10)"
      ]
     },
     "execution_count": 5,
     "metadata": {},
     "output_type": "execute_result"
    }
   ],
   "source": [
    "# create a train/test split\n",
    "train_split = int(0.8 * len(X))\n",
    "X_train, y_train = X[:train_split], y[:train_split]\n",
    "X_test, y_test = X[train_split:], y[train_split:]\n",
    "\n",
    "len(X_train), len(y_train), len(X_test), len(y_test)"
   ]
  },
  {
   "cell_type": "markdown",
   "metadata": {},
   "source": [
    "How might we better visualize our data?\n",
    "\n",
    "This is where data explorer's motto come in!\n",
    "'Visualize, visualize, visualize!'"
   ]
  },
  {
   "cell_type": "code",
   "execution_count": 6,
   "metadata": {},
   "outputs": [],
   "source": [
    "def plot_predictions(train_data=X_train,\n",
    "                     train_labels= y_train,\n",
    "                     test_data=X_test,\n",
    "                     test_labels=y_test,\n",
    "                     prediction=None):\n",
    "    \"\"\"\n",
    "    Plots training data, test data and compares prediction.\n",
    "    \"\"\"\n",
    "    plt.figure(figsize=(10,7))\n",
    "\n",
    "    # Plot training data in blue\n",
    "    plt.scatter(train_data, train_labels, c='b', s=4, label='Training data')\n",
    "\n",
    "    # Plot testing data in green\n",
    "    plt.scatter(test_data, test_labels, c='g', s=4, label='Testing data')\n",
    "\n",
    "    # Prediction\n",
    "    if prediction is not None:\n",
    "        plt.scatter(test_data, prediction, c='r', s=4, label='Predictions')\n",
    "    \n",
    "    # Show the legend\n",
    "    plt.legend(prop={'size':14})"
   ]
  },
  {
   "cell_type": "code",
   "execution_count": 7,
   "metadata": {},
   "outputs": [
    {
     "data": {
      "image/png": "[encoded data removed]",
      "text/plain": [
       "<Figure size 1000x700 with 1 Axes>"
      ]
     },
     "metadata": {},
     "output_type": "display_data"
    }
   ],
   "source": [
    "plot_predictions()"
   ]
  },
  {
   "cell_type": "markdown",
   "metadata": {},
   "source": [
    "#### 2. Build model\n",
    "\n",
    "First pytorch model\n",
    "\n",
    "What are model does:\n",
    "* Start with random values (weight & bias)\n",
    "* Look at training data and adjust the random values to better represent (or get closer to) the ideal values (the weight & bias used to create the data).\n",
    "\n",
    "How does it do so?\n",
    "\n",
    "Through two main algorithms:\n",
    "1. Gradient Descent\n",
    "2. Backpropagation"
   ]
  },
  {
   "cell_type": "code",
   "execution_count": 8,
   "metadata": {},
   "outputs": [],
   "source": [
    "# Create linear regression model class\n",
    "# nn.module: base class for all neural network modules\n",
    "\n",
    "class LinearRegressionModel(nn.Module):\n",
    "    def __init__(self):\n",
    "        super().__init__()\n",
    "        self.weights = nn.Parameter(torch.randn(1,\n",
    "                                               requires_grad=True,\n",
    "                                               dtype=torch.float))\n",
    "        self.bias = nn.Parameter(torch.randn(1,\n",
    "                                              requires_grad=True,\n",
    "                                              dtype=torch.float))\n",
    "        \n",
    "    # Forward method to define the compuation in the model\n",
    "    # '->': is a function annotation\n",
    "    def forward(self, x: torch.Tensor) -> torch.Tensor:\n",
    "        return self.weights * x + self.bias"
   ]
  },
  {
   "cell_type": "markdown",
   "metadata": {},
   "source": [
    "##### PyTorch model building essentials\n",
    "\n",
    "* **torch.nn** - contains all the building for computational graphs(a neural network can be considered a computational graphs)\n",
    "* **torch.nn.Parameter** - what parameters should our model try and learn, often a Pytorch layer from torch.nn will set these for us\n",
    "* **torch.nn.Module** - The base class for all neural network modules, if you subclass it, you should overwrite forward().\n",
    "* **torch.optim** - this where the optimizers in pytorch live. will help the gradient descent.\n",
    "* **def forward()** - all nn.module subclasses require you to overwrite forward(), this method defines what happens in the forward computation."
   ]
  },
  {
   "cell_type": "markdown",
   "metadata": {},
   "source": [
    "##### Checking the contents of our Pytorch model\n",
    "\n",
    "Now we've created a model, lets see whats inside\n",
    "\n",
    "We can check our models parametrs using `.parameters()`"
   ]
  },
  {
   "cell_type": "code",
   "execution_count": 9,
   "metadata": {},
   "outputs": [
    {
     "data": {
      "text/plain": [
       "[Parameter containing:\n",
       " tensor([0.3367], requires_grad=True),\n",
       " Parameter containing:\n",
       " tensor([0.1288], requires_grad=True)]"
      ]
     },
     "execution_count": 9,
     "metadata": {},
     "output_type": "execute_result"
    }
   ],
   "source": [
    "# Create a random seed\n",
    "torch.manual_seed(42)\n",
    "\n",
    "# Create an instance of the model (this is a subclass of nn.Module)\n",
    "model_0 = LinearRegressionModel()\n",
    "\n",
    "# Checkout the parameters\n",
    "list(model_0.parameters())"
   ]
  },
  {
   "cell_type": "code",
   "execution_count": 10,
   "metadata": {},
   "outputs": [
    {
     "data": {
      "text/plain": [
       "OrderedDict([('weights', tensor([0.3367])), ('bias', tensor([0.1288]))])"
      ]
     },
     "execution_count": 10,
     "metadata": {},
     "output_type": "execute_result"
    }
   ],
   "source": [
    "# List named parameters\n",
    "model_0.state_dict()"
   ]
  },
  {
   "cell_type": "markdown",
   "metadata": {},
   "source": [
    "##### Making prediction using `torch.inference_mode()`\n",
    "\n",
    "To check our model's predictive power, let's see how well it predicts `y_test` and based on `X_test`\n",
    "\n",
    "When we pass data through our model, it's going to run it through the `forward()` method."
   ]
  },
  {
   "cell_type": "code",
   "execution_count": 11,
   "metadata": {},
   "outputs": [
    {
     "data": {
      "text/plain": [
       "tensor([[0.3982],\n",
       "        [0.4049],\n",
       "        [0.4116],\n",
       "        [0.4184],\n",
       "        [0.4251],\n",
       "        [0.4318],\n",
       "        [0.4386],\n",
       "        [0.4453],\n",
       "        [0.4520],\n",
       "        [0.4588]])"
      ]
     },
     "execution_count": 11,
     "metadata": {},
     "output_type": "execute_result"
    }
   ],
   "source": [
    "# Make predictions with model\n",
    "with torch.inference_mode(): # <= disables gradient descent and backend data\n",
    "    y_preds = model_0(X_test)\n",
    "\n",
    "y_preds"
   ]
  },
  {
   "cell_type": "code",
   "execution_count": 12,
   "metadata": {},
   "outputs": [
    {
     "data": {
      "image/png": "[encoded data removed]",
      "text/plain": [
       "<Figure size 1000x700 with 1 Axes>"
      ]
     },
     "metadata": {},
     "output_type": "display_data"
    }
   ],
   "source": [
    "plot_predictions(prediction=y_preds)"
   ]
  },
  {
   "cell_type": "markdown",
   "metadata": {},
   "source": [
    "#### 3. Train model\n",
    "\n",
    "The whole idea of training is for a model to move from some *unknown* parameters to some *known* parameters.\n",
    "\n",
    "Or in other words from a poor representation of the data to a better representation of data.\n",
    "\n",
    "One way to measure how poor or how wrong your models predictions are is to use a **loss function**.\n",
    "\n",
    "* Note: Loss function may also be called cost function or criterion in different areas. For now, we are going to refer to it as a loss function.\n",
    "\n",
    "Things we need to train:\n",
    "\n",
    "* **Loss function:** A function to measure how wrong your model's predictions are to the ideal outputs, lower is better.\n",
    "* **Optimizer:** Takes into account the loss of a model and adjusts the model's parameters (i.e. weight & bias) to improve the loss function.\n",
    "    * Inside the optimizers you'll often have to set two parameters:\n",
    "        * params - the model parameters\n",
    "        * lr - learning rate of the optimizer\n",
    "\n",
    "And specifically for pytorch, we need:\n",
    "* A training loop\n",
    "* A testing loop"
   ]
  },
  {
   "cell_type": "code",
   "execution_count": 13,
   "metadata": {},
   "outputs": [],
   "source": [
    "# Setup a loss function\n",
    "loss_fn = nn.L1Loss()\n",
    "\n",
    "\n",
    "# Setup an optimizer\n",
    "optimizer = torch.optim.SGD(params=model_0.parameters(), lr=0.0001) # lr = learning rate = one of the important hyperparameters (hyperparameters are parameters set by the researchers)"
   ]
  },
  {
   "cell_type": "markdown",
   "metadata": {},
   "source": [
    "##### Building a training loop and testing loop in pytorch\n",
    "\n",
    "A couple of things we need in a training loop:\n",
    "1. Loop through the data\n",
    "2. Forward pass (this involves data moving through our model's `forward()` functions) to make prediction on data - also called forward propagation\n",
    "3. Calculate the loss (compare forward pass predictions to ground truth labels)\n",
    "4. Optimizer zero grad\n",
    "5. Loss backwards - move backword through the network to calculate the gradients of each of the parameters of our model with respect to the loss (**backpropagation**)\n",
    "6. Optimizer step - use the optimizer to adjust our model's parameters to try and improve the loss (**gradient descent**)"
   ]
  },
  {
   "cell_type": "code",
   "execution_count": 14,
   "metadata": {},
   "outputs": [
    {
     "name": "stdout",
     "output_type": "stream",
     "text": [
      "Epoch: 0 | Loss: 0.31288138031959534 | Test loss: 0.4944015145301819\n",
      "OrderedDict([('weights', tensor([0.3367])), ('bias', tensor([0.1289]))])\n",
      "Epoch: 10 | Loss: 0.31172919273376465 | Test loss: 0.49305421113967896\n",
      "OrderedDict([('weights', tensor([0.3371])), ('bias', tensor([0.1299]))])\n",
      "Epoch: 20 | Loss: 0.31057703495025635 | Test loss: 0.4917070269584656\n",
      "OrderedDict([('weights', tensor([0.3375])), ('bias', tensor([0.1309]))])\n",
      "Epoch: 30 | Loss: 0.30942484736442566 | Test loss: 0.4903597831726074\n",
      "OrderedDict([('weights', tensor([0.3379])), ('bias', tensor([0.1319]))])\n",
      "Epoch: 40 | Loss: 0.30827268958091736 | Test loss: 0.48901262879371643\n",
      "OrderedDict([('weights', tensor([0.3383])), ('bias', tensor([0.1329]))])\n",
      "Epoch: 50 | Loss: 0.30712056159973145 | Test loss: 0.4876653552055359\n",
      "OrderedDict([('weights', tensor([0.3387])), ('bias', tensor([0.1339]))])\n",
      "Epoch: 60 | Loss: 0.30596840381622314 | Test loss: 0.4863181710243225\n",
      "OrderedDict([('weights', tensor([0.3391])), ('bias', tensor([0.1349]))])\n",
      "Epoch: 70 | Loss: 0.30481624603271484 | Test loss: 0.48497089743614197\n",
      "OrderedDict([('weights', tensor([0.3395])), ('bias', tensor([0.1359]))])\n",
      "Epoch: 80 | Loss: 0.30366405844688416 | Test loss: 0.483623743057251\n",
      "OrderedDict([('weights', tensor([0.3399])), ('bias', tensor([0.1369]))])\n",
      "Epoch: 90 | Loss: 0.30251190066337585 | Test loss: 0.4822765290737152\n",
      "OrderedDict([('weights', tensor([0.3402])), ('bias', tensor([0.1379]))])\n",
      "Epoch: 100 | Loss: 0.30135971307754517 | Test loss: 0.4809292256832123\n",
      "OrderedDict([('weights', tensor([0.3406])), ('bias', tensor([0.1389]))])\n",
      "Epoch: 110 | Loss: 0.30020755529403687 | Test loss: 0.4795820713043213\n",
      "OrderedDict([('weights', tensor([0.3410])), ('bias', tensor([0.1399]))])\n",
      "Epoch: 120 | Loss: 0.29905542731285095 | Test loss: 0.4782348573207855\n",
      "OrderedDict([('weights', tensor([0.3414])), ('bias', tensor([0.1409]))])\n",
      "Epoch: 130 | Loss: 0.29790323972702026 | Test loss: 0.47688764333724976\n",
      "OrderedDict([('weights', tensor([0.3418])), ('bias', tensor([0.1419]))])\n",
      "Epoch: 140 | Loss: 0.29675108194351196 | Test loss: 0.4755404591560364\n",
      "OrderedDict([('weights', tensor([0.3422])), ('bias', tensor([0.1429]))])\n",
      "Epoch: 150 | Loss: 0.29559892416000366 | Test loss: 0.47419318556785583\n",
      "OrderedDict([('weights', tensor([0.3426])), ('bias', tensor([0.1439]))])\n",
      "Epoch: 160 | Loss: 0.29444676637649536 | Test loss: 0.47284597158432007\n",
      "OrderedDict([('weights', tensor([0.3430])), ('bias', tensor([0.1449]))])\n",
      "Epoch: 170 | Loss: 0.29329460859298706 | Test loss: 0.4714987874031067\n",
      "OrderedDict([('weights', tensor([0.3434])), ('bias', tensor([0.1459]))])\n",
      "Epoch: 180 | Loss: 0.29214248061180115 | Test loss: 0.4701515734195709\n",
      "OrderedDict([('weights', tensor([0.3438])), ('bias', tensor([0.1469]))])\n",
      "Epoch: 190 | Loss: 0.29099029302597046 | Test loss: 0.4688042998313904\n",
      "OrderedDict([('weights', tensor([0.3441])), ('bias', tensor([0.1479]))])\n",
      "Epoch: 200 | Loss: 0.28983813524246216 | Test loss: 0.467457115650177\n",
      "OrderedDict([('weights', tensor([0.3445])), ('bias', tensor([0.1489]))])\n",
      "Epoch: 210 | Loss: 0.28868597745895386 | Test loss: 0.46610990166664124\n",
      "OrderedDict([('weights', tensor([0.3449])), ('bias', tensor([0.1499]))])\n",
      "Epoch: 220 | Loss: 0.28753381967544556 | Test loss: 0.46476268768310547\n",
      "OrderedDict([('weights', tensor([0.3453])), ('bias', tensor([0.1509]))])\n",
      "Epoch: 230 | Loss: 0.28638166189193726 | Test loss: 0.4634154438972473\n",
      "OrderedDict([('weights', tensor([0.3457])), ('bias', tensor([0.1519]))])\n",
      "Epoch: 240 | Loss: 0.28522950410842896 | Test loss: 0.46206825971603394\n",
      "OrderedDict([('weights', tensor([0.3461])), ('bias', tensor([0.1529]))])\n",
      "Epoch: 250 | Loss: 0.28407734632492065 | Test loss: 0.4607210159301758\n",
      "OrderedDict([('weights', tensor([0.3465])), ('bias', tensor([0.1539]))])\n",
      "Epoch: 260 | Loss: 0.28292518854141235 | Test loss: 0.4593738615512848\n",
      "OrderedDict([('weights', tensor([0.3469])), ('bias', tensor([0.1549]))])\n",
      "Epoch: 270 | Loss: 0.28177303075790405 | Test loss: 0.45802658796310425\n",
      "OrderedDict([('weights', tensor([0.3473])), ('bias', tensor([0.1559]))])\n",
      "Epoch: 280 | Loss: 0.28062087297439575 | Test loss: 0.4566793441772461\n",
      "OrderedDict([('weights', tensor([0.3477])), ('bias', tensor([0.1569]))])\n",
      "Epoch: 290 | Loss: 0.27946868538856506 | Test loss: 0.4553321897983551\n",
      "OrderedDict([('weights', tensor([0.3480])), ('bias', tensor([0.1579]))])\n",
      "Epoch: 300 | Loss: 0.27831655740737915 | Test loss: 0.45398491621017456\n",
      "OrderedDict([('weights', tensor([0.3484])), ('bias', tensor([0.1589]))])\n",
      "Epoch: 310 | Loss: 0.27716436982154846 | Test loss: 0.45263776183128357\n",
      "OrderedDict([('weights', tensor([0.3488])), ('bias', tensor([0.1599]))])\n",
      "Epoch: 320 | Loss: 0.2760121822357178 | Test loss: 0.4512905180454254\n",
      "OrderedDict([('weights', tensor([0.3492])), ('bias', tensor([0.1609]))])\n",
      "Epoch: 330 | Loss: 0.27486005425453186 | Test loss: 0.44994330406188965\n",
      "OrderedDict([('weights', tensor([0.3496])), ('bias', tensor([0.1619]))])\n",
      "Epoch: 340 | Loss: 0.27370789647102356 | Test loss: 0.4485960900783539\n",
      "OrderedDict([('weights', tensor([0.3500])), ('bias', tensor([0.1629]))])\n",
      "Epoch: 350 | Loss: 0.27255573868751526 | Test loss: 0.4472488760948181\n",
      "OrderedDict([('weights', tensor([0.3504])), ('bias', tensor([0.1639]))])\n",
      "Epoch: 360 | Loss: 0.27140355110168457 | Test loss: 0.44590163230895996\n",
      "OrderedDict([('weights', tensor([0.3508])), ('bias', tensor([0.1649]))])\n",
      "Epoch: 370 | Loss: 0.27025142312049866 | Test loss: 0.4445544183254242\n",
      "OrderedDict([('weights', tensor([0.3512])), ('bias', tensor([0.1659]))])\n",
      "Epoch: 380 | Loss: 0.26909923553466797 | Test loss: 0.4432072043418884\n",
      "OrderedDict([('weights', tensor([0.3516])), ('bias', tensor([0.1669]))])\n",
      "Epoch: 390 | Loss: 0.26794707775115967 | Test loss: 0.44186002016067505\n",
      "OrderedDict([('weights', tensor([0.3519])), ('bias', tensor([0.1679]))])\n",
      "Epoch: 400 | Loss: 0.26679491996765137 | Test loss: 0.4405128061771393\n",
      "OrderedDict([('weights', tensor([0.3523])), ('bias', tensor([0.1689]))])\n",
      "Epoch: 410 | Loss: 0.26564276218414307 | Test loss: 0.43916553258895874\n",
      "OrderedDict([('weights', tensor([0.3527])), ('bias', tensor([0.1699]))])\n",
      "Epoch: 420 | Loss: 0.26449060440063477 | Test loss: 0.43781834840774536\n",
      "OrderedDict([('weights', tensor([0.3531])), ('bias', tensor([0.1709]))])\n",
      "Epoch: 430 | Loss: 0.26333844661712646 | Test loss: 0.4364711344242096\n",
      "OrderedDict([('weights', tensor([0.3535])), ('bias', tensor([0.1719]))])\n",
      "Epoch: 440 | Loss: 0.26218628883361816 | Test loss: 0.43512392044067383\n",
      "OrderedDict([('weights', tensor([0.3539])), ('bias', tensor([0.1729]))])\n",
      "Epoch: 450 | Loss: 0.2610341012477875 | Test loss: 0.4337766766548157\n",
      "OrderedDict([('weights', tensor([0.3543])), ('bias', tensor([0.1739]))])\n",
      "Epoch: 460 | Loss: 0.2598819434642792 | Test loss: 0.4324294924736023\n",
      "OrderedDict([('weights', tensor([0.3547])), ('bias', tensor([0.1749]))])\n",
      "Epoch: 470 | Loss: 0.2587297856807709 | Test loss: 0.43108224868774414\n",
      "OrderedDict([('weights', tensor([0.3551])), ('bias', tensor([0.1759]))])\n",
      "Epoch: 480 | Loss: 0.2575775980949402 | Test loss: 0.4297350347042084\n",
      "OrderedDict([('weights', tensor([0.3555])), ('bias', tensor([0.1769]))])\n",
      "Epoch: 490 | Loss: 0.2564254701137543 | Test loss: 0.4283878207206726\n",
      "OrderedDict([('weights', tensor([0.3558])), ('bias', tensor([0.1779]))])\n",
      "Epoch: 500 | Loss: 0.2552732825279236 | Test loss: 0.42704063653945923\n",
      "OrderedDict([('weights', tensor([0.3562])), ('bias', tensor([0.1789]))])\n",
      "Epoch: 510 | Loss: 0.25412115454673767 | Test loss: 0.4256933629512787\n",
      "OrderedDict([('weights', tensor([0.3566])), ('bias', tensor([0.1799]))])\n",
      "Epoch: 520 | Loss: 0.252968966960907 | Test loss: 0.4243461489677429\n",
      "OrderedDict([('weights', tensor([0.3570])), ('bias', tensor([0.1809]))])\n",
      "Epoch: 530 | Loss: 0.25181683897972107 | Test loss: 0.42299899458885193\n",
      "OrderedDict([('weights', tensor([0.3574])), ('bias', tensor([0.1819]))])\n",
      "Epoch: 540 | Loss: 0.2506646513938904 | Test loss: 0.4216517508029938\n",
      "OrderedDict([('weights', tensor([0.3578])), ('bias', tensor([0.1829]))])\n",
      "Epoch: 550 | Loss: 0.24951250851154327 | Test loss: 0.420304536819458\n",
      "OrderedDict([('weights', tensor([0.3582])), ('bias', tensor([0.1839]))])\n",
      "Epoch: 560 | Loss: 0.24836035072803497 | Test loss: 0.41895729303359985\n",
      "OrderedDict([('weights', tensor([0.3586])), ('bias', tensor([0.1849]))])\n",
      "Epoch: 570 | Loss: 0.24720819294452667 | Test loss: 0.4176101088523865\n",
      "OrderedDict([('weights', tensor([0.3590])), ('bias', tensor([0.1859]))])\n",
      "Epoch: 580 | Loss: 0.24605603516101837 | Test loss: 0.4162628650665283\n",
      "OrderedDict([('weights', tensor([0.3594])), ('bias', tensor([0.1869]))])\n",
      "Epoch: 590 | Loss: 0.24490387737751007 | Test loss: 0.41491565108299255\n",
      "OrderedDict([('weights', tensor([0.3597])), ('bias', tensor([0.1879]))])\n",
      "Epoch: 600 | Loss: 0.24375171959400177 | Test loss: 0.4135684370994568\n",
      "OrderedDict([('weights', tensor([0.3601])), ('bias', tensor([0.1889]))])\n",
      "Epoch: 610 | Loss: 0.24259953200817108 | Test loss: 0.41222119331359863\n",
      "OrderedDict([('weights', tensor([0.3605])), ('bias', tensor([0.1899]))])\n",
      "Epoch: 620 | Loss: 0.24144737422466278 | Test loss: 0.41087397933006287\n",
      "OrderedDict([('weights', tensor([0.3609])), ('bias', tensor([0.1909]))])\n",
      "Epoch: 630 | Loss: 0.24029521644115448 | Test loss: 0.4095267653465271\n",
      "OrderedDict([('weights', tensor([0.3613])), ('bias', tensor([0.1919]))])\n",
      "Epoch: 640 | Loss: 0.23914304375648499 | Test loss: 0.4081795811653137\n",
      "OrderedDict([('weights', tensor([0.3617])), ('bias', tensor([0.1929]))])\n",
      "Epoch: 650 | Loss: 0.23799090087413788 | Test loss: 0.40683236718177795\n",
      "OrderedDict([('weights', tensor([0.3621])), ('bias', tensor([0.1939]))])\n",
      "Epoch: 660 | Loss: 0.23683874309062958 | Test loss: 0.4054851531982422\n",
      "OrderedDict([('weights', tensor([0.3625])), ('bias', tensor([0.1949]))])\n",
      "Epoch: 670 | Loss: 0.23568658530712128 | Test loss: 0.4041379392147064\n",
      "OrderedDict([('weights', tensor([0.3629])), ('bias', tensor([0.1959]))])\n",
      "Epoch: 680 | Loss: 0.23453441262245178 | Test loss: 0.40279069542884827\n",
      "OrderedDict([('weights', tensor([0.3633])), ('bias', tensor([0.1969]))])\n",
      "Epoch: 690 | Loss: 0.23338226974010468 | Test loss: 0.4014434814453125\n",
      "OrderedDict([('weights', tensor([0.3636])), ('bias', tensor([0.1979]))])\n",
      "Epoch: 700 | Loss: 0.23223009705543518 | Test loss: 0.40009626746177673\n",
      "OrderedDict([('weights', tensor([0.3640])), ('bias', tensor([0.1989]))])\n",
      "Epoch: 710 | Loss: 0.23107793927192688 | Test loss: 0.39874905347824097\n",
      "OrderedDict([('weights', tensor([0.3644])), ('bias', tensor([0.1999]))])\n",
      "Epoch: 720 | Loss: 0.22992578148841858 | Test loss: 0.3974018096923828\n",
      "OrderedDict([('weights', tensor([0.3648])), ('bias', tensor([0.2009]))])\n",
      "Epoch: 730 | Loss: 0.22877362370491028 | Test loss: 0.39605459570884705\n",
      "OrderedDict([('weights', tensor([0.3652])), ('bias', tensor([0.2019]))])\n",
      "Epoch: 740 | Loss: 0.2276214361190796 | Test loss: 0.3947073817253113\n",
      "OrderedDict([('weights', tensor([0.3656])), ('bias', tensor([0.2029]))])\n",
      "Epoch: 750 | Loss: 0.2264692783355713 | Test loss: 0.3933602273464203\n",
      "OrderedDict([('weights', tensor([0.3660])), ('bias', tensor([0.2039]))])\n",
      "Epoch: 760 | Loss: 0.225317120552063 | Test loss: 0.39201295375823975\n",
      "OrderedDict([('weights', tensor([0.3664])), ('bias', tensor([0.2049]))])\n",
      "Epoch: 770 | Loss: 0.2241649627685547 | Test loss: 0.39066576957702637\n",
      "OrderedDict([('weights', tensor([0.3668])), ('bias', tensor([0.2059]))])\n",
      "Epoch: 780 | Loss: 0.2230128049850464 | Test loss: 0.3893185257911682\n",
      "OrderedDict([('weights', tensor([0.3672])), ('bias', tensor([0.2069]))])\n",
      "Epoch: 790 | Loss: 0.22186064720153809 | Test loss: 0.38797131180763245\n",
      "OrderedDict([('weights', tensor([0.3675])), ('bias', tensor([0.2079]))])\n",
      "Epoch: 800 | Loss: 0.2207084596157074 | Test loss: 0.3866240978240967\n",
      "OrderedDict([('weights', tensor([0.3679])), ('bias', tensor([0.2089]))])\n",
      "Epoch: 810 | Loss: 0.21955633163452148 | Test loss: 0.3852768540382385\n",
      "OrderedDict([('weights', tensor([0.3683])), ('bias', tensor([0.2099]))])\n",
      "Epoch: 820 | Loss: 0.21840420365333557 | Test loss: 0.38392966985702515\n",
      "OrderedDict([('weights', tensor([0.3687])), ('bias', tensor([0.2109]))])\n",
      "Epoch: 830 | Loss: 0.21725201606750488 | Test loss: 0.3825824558734894\n",
      "OrderedDict([('weights', tensor([0.3691])), ('bias', tensor([0.2119]))])\n",
      "Epoch: 840 | Loss: 0.2160998284816742 | Test loss: 0.3812352120876312\n",
      "OrderedDict([('weights', tensor([0.3695])), ('bias', tensor([0.2129]))])\n",
      "Epoch: 850 | Loss: 0.21494770050048828 | Test loss: 0.37988802790641785\n",
      "OrderedDict([('weights', tensor([0.3699])), ('bias', tensor([0.2139]))])\n",
      "Epoch: 860 | Loss: 0.2137955129146576 | Test loss: 0.3785407841205597\n",
      "OrderedDict([('weights', tensor([0.3703])), ('bias', tensor([0.2149]))])\n",
      "Epoch: 870 | Loss: 0.2126433551311493 | Test loss: 0.3771935999393463\n",
      "OrderedDict([('weights', tensor([0.3707])), ('bias', tensor([0.2159]))])\n",
      "Epoch: 880 | Loss: 0.211491197347641 | Test loss: 0.37584635615348816\n",
      "OrderedDict([('weights', tensor([0.3711])), ('bias', tensor([0.2169]))])\n",
      "Epoch: 890 | Loss: 0.2103390395641327 | Test loss: 0.37449911236763\n",
      "OrderedDict([('weights', tensor([0.3714])), ('bias', tensor([0.2179]))])\n",
      "Epoch: 900 | Loss: 0.2091868668794632 | Test loss: 0.373151957988739\n",
      "OrderedDict([('weights', tensor([0.3718])), ('bias', tensor([0.2189]))])\n",
      "Epoch: 910 | Loss: 0.2080347239971161 | Test loss: 0.37180468440055847\n",
      "OrderedDict([('weights', tensor([0.3722])), ('bias', tensor([0.2199]))])\n",
      "Epoch: 920 | Loss: 0.2068825662136078 | Test loss: 0.3704574704170227\n",
      "OrderedDict([('weights', tensor([0.3726])), ('bias', tensor([0.2209]))])\n",
      "Epoch: 930 | Loss: 0.2057303935289383 | Test loss: 0.3691102862358093\n",
      "OrderedDict([('weights', tensor([0.3730])), ('bias', tensor([0.2219]))])\n",
      "Epoch: 940 | Loss: 0.20457823574543 | Test loss: 0.36776304244995117\n",
      "OrderedDict([('weights', tensor([0.3734])), ('bias', tensor([0.2229]))])\n",
      "Epoch: 950 | Loss: 0.2034260779619217 | Test loss: 0.3664158582687378\n",
      "OrderedDict([('weights', tensor([0.3738])), ('bias', tensor([0.2239]))])\n",
      "Epoch: 960 | Loss: 0.20227393507957458 | Test loss: 0.3650686740875244\n",
      "OrderedDict([('weights', tensor([0.3742])), ('bias', tensor([0.2249]))])\n",
      "Epoch: 970 | Loss: 0.2011217623949051 | Test loss: 0.36372143030166626\n",
      "OrderedDict([('weights', tensor([0.3746])), ('bias', tensor([0.2259]))])\n",
      "Epoch: 980 | Loss: 0.1999696046113968 | Test loss: 0.3623741865158081\n",
      "OrderedDict([('weights', tensor([0.3750])), ('bias', tensor([0.2269]))])\n",
      "Epoch: 990 | Loss: 0.1988174170255661 | Test loss: 0.36102694272994995\n",
      "OrderedDict([('weights', tensor([0.3754])), ('bias', tensor([0.2279]))])\n"
     ]
    }
   ],
   "source": [
    "# An epoch is one loop through the data... (epoch is a hyperparameters)\n",
    "epochs = 1000\n",
    "\n",
    "# Track different vlaues\n",
    "epoch_count = []\n",
    "train_loss_values = []\n",
    "test_loss_values = []\n",
    "\n",
    "# step 1. loop through the data\n",
    "for epoch in range(epochs):\n",
    "    # set the model to training mode\n",
    "    model_0.train() # training mode in pytorch sets all parameters that require gradients to require gradients\n",
    "\n",
    "    # 1. Forward pass\n",
    "    y_pred = model_0(X_train)\n",
    "\n",
    "    # 2. Calculate the loss\n",
    "    loss = loss_fn(y_pred, y_train)\n",
    "\n",
    "    # 3. Optimizer zero grad\n",
    "    optimizer.zero_grad()\n",
    "\n",
    "    # 4. Perform backpropagation on the loss with respect to the parameters of the model\n",
    "    loss.backward()\n",
    "\n",
    "    # 5. Step the optimizer (perform gradient descent)\n",
    "    optimizer.step() # by default how the optimzier changes will acculmulate through the loop so.. we have to zero them above in step 3 for the next iteration of the loop\n",
    "\n",
    "    # Testing\n",
    "    model_0.eval() # turns off gradient tracking\n",
    "    with torch.inference_mode():\n",
    "        # 1. Do the forward pass\n",
    "        test_pred = model_0(X_test)\n",
    "\n",
    "        # 2. Calculate the loss\n",
    "        test_loss = loss_fn(test_pred, y_test)\n",
    "    \n",
    "    # Prints what's happening\n",
    "    if epoch % 10 == 0:\n",
    "        epoch_count.append(epoch)\n",
    "        train_loss_values.append(loss)\n",
    "        test_loss_values.append(test_loss)\n",
    "        print(f'Epoch: {epoch} | Loss: {loss} | Test loss: {test_loss}')\n",
    "        print(model_0.state_dict())\n"
   ]
  },
  {
   "cell_type": "code",
   "execution_count": 15,
   "metadata": {},
   "outputs": [
    {
     "data": {
      "text/plain": [
       "array([0.31288138, 0.3117292 , 0.31057703, 0.30942485, 0.3082727 ,\n",
       "       0.30712056, 0.3059684 , 0.30481625, 0.30366406, 0.3025119 ,\n",
       "       0.3013597 , 0.30020756, 0.29905543, 0.29790324, 0.29675108,\n",
       "       0.29559892, 0.29444677, 0.2932946 , 0.29214248, 0.2909903 ,\n",
       "       0.28983814, 0.28868598, 0.28753382, 0.28638166, 0.2852295 ,\n",
       "       0.28407735, 0.2829252 , 0.28177303, 0.28062087, 0.2794687 ,\n",
       "       0.27831656, 0.27716437, 0.27601218, 0.27486005, 0.2737079 ,\n",
       "       0.27255574, 0.27140355, 0.27025142, 0.26909924, 0.26794708,\n",
       "       0.26679492, 0.26564276, 0.2644906 , 0.26333845, 0.2621863 ,\n",
       "       0.2610341 , 0.25988194, 0.2587298 , 0.2575776 , 0.25642547,\n",
       "       0.25527328, 0.25412115, 0.25296897, 0.25181684, 0.25066465,\n",
       "       0.24951251, 0.24836035, 0.2472082 , 0.24605604, 0.24490388,\n",
       "       0.24375172, 0.24259953, 0.24144737, 0.24029522, 0.23914304,\n",
       "       0.2379909 , 0.23683874, 0.23568659, 0.23453441, 0.23338227,\n",
       "       0.2322301 , 0.23107794, 0.22992578, 0.22877362, 0.22762144,\n",
       "       0.22646928, 0.22531712, 0.22416496, 0.2230128 , 0.22186065,\n",
       "       0.22070846, 0.21955633, 0.2184042 , 0.21725202, 0.21609983,\n",
       "       0.2149477 , 0.21379551, 0.21264336, 0.2114912 , 0.21033904,\n",
       "       0.20918687, 0.20803472, 0.20688257, 0.2057304 , 0.20457824,\n",
       "       0.20342608, 0.20227394, 0.20112176, 0.1999696 , 0.19881742],\n",
       "      dtype=float32)"
      ]
     },
     "execution_count": 15,
     "metadata": {},
     "output_type": "execute_result"
    }
   ],
   "source": [
    "import numpy as np\n",
    "np.array(torch.tensor(train_loss_values).detach().numpy())"
   ]
  },
  {
   "cell_type": "code",
   "execution_count": 16,
   "metadata": {},
   "outputs": [
    {
     "data": {
      "text/plain": [
       "[<matplotlib.lines.Line2D at 0x19a42b47f90>]"
      ]
     },
     "execution_count": 16,
     "metadata": {},
     "output_type": "execute_result"
    },
    {
     "data": {
      "image/png": "[encoded data removed]",
      "text/plain": [
       "<Figure size 640x480 with 1 Axes>"
      ]
     },
     "metadata": {},
     "output_type": "display_data"
    }
   ],
   "source": [
    "# Plot loss curve\n",
    "'''\n",
    "if converging: model is on right track\n",
    "if diverging or not converging: model has problem\n",
    "'''\n",
    "plt.plot(epoch_count, np.array(torch.tensor(train_loss_values).detach().numpy()), label='Train loss')\n",
    "plt.plot(epoch_count, np.array(test_loss_values), label='Test Loss')"
   ]
  },
  {
   "cell_type": "code",
   "execution_count": 17,
   "metadata": {},
   "outputs": [
    {
     "data": {
      "image/png": "[encoded data removed]",
      "text/plain": [
       "<Figure size 1000x700 with 1 Axes>"
      ]
     },
     "metadata": {},
     "output_type": "display_data"
    }
   ],
   "source": [
    "with torch.inference_mode():\n",
    "    y_preds_new = model_0(X_test)\n",
    "plot_predictions(prediction=y_preds_new)"
   ]
  },
  {
   "cell_type": "code",
   "execution_count": 18,
   "metadata": {},
   "outputs": [
    {
     "data": {
      "text/plain": [
       "(0.7, 0.3)"
      ]
     },
     "execution_count": 18,
     "metadata": {},
     "output_type": "execute_result"
    }
   ],
   "source": [
    "weight, bias"
   ]
  },
  {
   "cell_type": "code",
   "execution_count": 19,
   "metadata": {},
   "outputs": [
    {
     "data": {
      "image/png": "[encoded data removed]",
      "text/plain": [
       "<Figure size 1000x700 with 1 Axes>"
      ]
     },
     "metadata": {},
     "output_type": "display_data"
    }
   ],
   "source": [
    "plot_predictions(prediction=y_preds_new)"
   ]
  },
  {
   "cell_type": "markdown",
   "metadata": {},
   "source": [
    "### Saving a model in pytorch\n",
    "\n",
    "There are three main methods you should about for saving and loading models in PyTorch.\n",
    "\n",
    "1. `torch.save()` - allows you to save a PyTorch object in Python's pickle format\n",
    "2. `torch.load()` - allows you load a saved PyTorch object\n",
    "3. `torch.nn.Module.load_state_dict` - this allows to laod a model's saved state dictionary"
   ]
  },
  {
   "cell_type": "code",
   "execution_count": 20,
   "metadata": {},
   "outputs": [],
   "source": [
    "# Saving our PyTorch model\n",
    "from pathlib import Path\n",
    "\n",
    "# 1. Create model directory\n",
    "MODEL_PATH = Path('models')\n",
    "MODEL_PATH.mkdir(parents=True, exist_ok=True)\n",
    "\n",
    "# 2. Create model save path\n",
    "MODEL_NAME = '01_python_workflow_model_0.pth'\n",
    "MODEL_SAVE_PATH = MODEL_PATH / MODEL_NAME\n",
    "\n",
    "# 3. Save the model state dict\n",
    "torch.save(model_0.state_dict(), MODEL_SAVE_PATH)"
   ]
  },
  {
   "cell_type": "markdown",
   "metadata": {},
   "source": [
    "### Putting it all together\n",
    "Apply what we learned"
   ]
  },
  {
   "cell_type": "code",
   "execution_count": 21,
   "metadata": {},
   "outputs": [
    {
     "name": "stdout",
     "output_type": "stream",
     "text": [
      "Torch Version: 2.1.1\n",
      "Device: cuda\n"
     ]
    }
   ],
   "source": [
    "# Import libraries\n",
    "import torch\n",
    "import matplotlib.pyplot as plt\n",
    "from torch import nn\n",
    "\n",
    "# Torch version\n",
    "print(f'Torch Version: {torch.__version__}')\n",
    "    \n",
    "# device agnostic code setup\n",
    "device = 'cuda' if torch.cuda.is_available() else 'cpu'\n",
    "\n",
    "print(f'Device: {device}')\n"
   ]
  },
  {
   "cell_type": "markdown",
   "metadata": {},
   "source": [
    "##### 6.1 Data\n",
    "* Create some data\n",
    "* Setting a `weights` and `bias`\n"
   ]
  },
  {
   "cell_type": "code",
   "execution_count": 25,
   "metadata": {},
   "outputs": [
    {
     "data": {
      "text/plain": [
       "(tensor([[0.0000],\n",
       "         [0.0200],\n",
       "         [0.0400],\n",
       "         [0.0600],\n",
       "         [0.0800],\n",
       "         [0.1000],\n",
       "         [0.1200],\n",
       "         [0.1400],\n",
       "         [0.1600],\n",
       "         [0.1800]]),\n",
       " tensor([[0.2000],\n",
       "         [0.2180],\n",
       "         [0.2360],\n",
       "         [0.2540],\n",
       "         [0.2720],\n",
       "         [0.2900],\n",
       "         [0.3080],\n",
       "         [0.3260],\n",
       "         [0.3440],\n",
       "         [0.3620]]))"
      ]
     },
     "execution_count": 25,
     "metadata": {},
     "output_type": "execute_result"
    }
   ],
   "source": [
    "# Setting up bias and weights\n",
    "weight = 0.9\n",
    "bias = 0.2\n",
    "\n",
    "# Range of values\n",
    "start = 0\n",
    "end = 1\n",
    "step = 0.02\n",
    "\n",
    "# Create X and y (features and labels)\n",
    "X = torch.arange(start, end, step).unsqueeze(dim=1)\n",
    "y = weight * X + bias\n",
    "\n",
    "# Prinst sample of the data X, y\n",
    "X[:10], y[:10]"
   ]
  },
  {
   "cell_type": "code",
   "execution_count": 26,
   "metadata": {},
   "outputs": [
    {
     "data": {
      "text/plain": [
       "(40, 40, 10, 10)"
      ]
     },
     "execution_count": 26,
     "metadata": {},
     "output_type": "execute_result"
    }
   ],
   "source": [
    "# Splitting the data\n",
    "train_split = int(0.8 * len(X))\n",
    "\n",
    "X_train, y_train = X[:train_split], y[:train_split]\n",
    "X_test, y_test = X[train_split:], y[train_split:]\n",
    "\n",
    "len(X_train), len(y_train), len(X_test), len(y_test)"
   ]
  },
  {
   "cell_type": "code",
   "execution_count": 27,
   "metadata": {},
   "outputs": [
    {
     "data": {
      "image/png": "[encoded data removed]",
      "text/plain": [
       "<Figure size 1000x700 with 1 Axes>"
      ]
     },
     "metadata": {},
     "output_type": "display_data"
    }
   ],
   "source": [
    "# Visualize the dataset\n",
    "\n",
    "plot_predictions(X_train, y_train, X_test, y_test)"
   ]
  },
  {
   "cell_type": "markdown",
   "metadata": {},
   "source": [
    "##### 6.2 Building a Pytoch linear model\n",
    "We will be using the `nn.Linear()` function from pytorch.\n",
    "\n"
   ]
  },
  {
   "cell_type": "code",
   "execution_count": 47,
   "metadata": {},
   "outputs": [
    {
     "data": {
      "text/plain": [
       "(LinearregressionModelV2(\n",
       "   (linear_layer): Linear(in_features=1, out_features=1, bias=True)\n",
       " ),\n",
       " OrderedDict([('linear_layer.weight', tensor([[0.7645]])),\n",
       "              ('linear_layer.bias', tensor([0.8300]))]))"
      ]
     },
     "execution_count": 47,
     "metadata": {},
     "output_type": "execute_result"
    }
   ],
   "source": [
    "class LinearregressionModelV2(nn.Module):\n",
    "    def __init__(self):\n",
    "        super().__init__()\n",
    "        # using nn.linear(): in_features and out features are 1 becuase our dataset is only 1 dimension\n",
    "        self.linear_layer = nn.Linear(in_features=1,\n",
    "                                      out_features=1)\n",
    "    \n",
    "    # Forward function\n",
    "    def forward(self, x: torch.Tensor) -> torch.Tensor:\n",
    "        return self.linear_layer(x)\n",
    "\n",
    "torch.manual_seed(42)\n",
    "model_1 = LinearregressionModelV2()\n",
    "model_1, model_1.state_dict()"
   ]
  },
  {
   "cell_type": "code",
   "execution_count": 48,
   "metadata": {},
   "outputs": [
    {
     "data": {
      "text/plain": [
       "device(type='cpu')"
      ]
     },
     "execution_count": 48,
     "metadata": {},
     "output_type": "execute_result"
    }
   ],
   "source": [
    "# Check model device\n",
    "next(model_1.parameters()).device"
   ]
  },
  {
   "cell_type": "code",
   "execution_count": 49,
   "metadata": {},
   "outputs": [
    {
     "data": {
      "text/plain": [
       "device(type='cuda', index=0)"
      ]
     },
     "execution_count": 49,
     "metadata": {},
     "output_type": "execute_result"
    }
   ],
   "source": [
    "# Set to gpu if available\n",
    "model_1.to(device)\n",
    "next(model_1.parameters()).device"
   ]
  },
  {
   "cell_type": "markdown",
   "metadata": {},
   "source": [
    "##### 6.3 Training\n",
    "* Building a testing and training loop\n",
    "* Create loss function and an optimizer using `nn.L1Loss()` and `torch.optim.SGD()`.\n",
    "* Set the **learning rate** to `0.01`"
   ]
  },
  {
   "cell_type": "code",
   "execution_count": 50,
   "metadata": {},
   "outputs": [],
   "source": [
    "# Create loss function\n",
    "loss_fn = nn.L1Loss()\n",
    "\n",
    "# Create optimizer\n",
    "optimizer = torch.optim.SGD(params=model_1.parameters(), lr=0.01)"
   ]
  },
  {
   "cell_type": "code",
   "execution_count": 51,
   "metadata": {},
   "outputs": [
    {
     "name": "stdout",
     "output_type": "stream",
     "text": [
      "Epoch: 0 | train loss: 0.5771779417991638 | test loss: 0.4959762692451477\n"
     ]
    },
    {
     "name": "stdout",
     "output_type": "stream",
     "text": [
      "Epoch: 100 | train loss: 0.047114234417676926 | test loss: 0.10965748131275177\n",
      "Epoch: 200 | train loss: 0.012773505412042141 | test loss: 0.028992921113967896\n",
      "Epoch: 300 | train loss: 0.00448277872055769 | test loss: 0.005793172400444746\n",
      "Epoch: 400 | train loss: 0.00448277872055769 | test loss: 0.005793172400444746\n",
      "Epoch: 500 | train loss: 0.00448277872055769 | test loss: 0.005793172400444746\n",
      "Epoch: 600 | train loss: 0.00448277872055769 | test loss: 0.005793172400444746\n",
      "Epoch: 700 | train loss: 0.00448277872055769 | test loss: 0.005793172400444746\n",
      "Epoch: 800 | train loss: 0.00448277872055769 | test loss: 0.005793172400444746\n",
      "Epoch: 900 | train loss: 0.00448277872055769 | test loss: 0.005793172400444746\n"
     ]
    }
   ],
   "source": [
    "# Creating a training loop\n",
    "torch.manual_seed(42)\n",
    "\n",
    "# Set epoch\n",
    "epochs = 1000\n",
    "\n",
    "# Set data to 'cuda' device\n",
    "X_train = X_train.to(device)\n",
    "y_train = y_train.to(device)\n",
    "X_test = X_test.to(device)\n",
    "y_test = y_test.to(device)\n",
    "\n",
    "\n",
    "for epoch in range(epochs):\n",
    "    # Training\n",
    "    model_1.train()\n",
    "\n",
    "    # 1. Forward pass\n",
    "    y_pred = model_1(X_train)\n",
    "\n",
    "    # 5. loss calculation\n",
    "    loss = loss_fn(y_pred, y_train)\n",
    "    \n",
    "    # 3. Optimizer\n",
    "    optimizer.zero_grad()\n",
    "\n",
    "    # 4. Loss backward\n",
    "    loss.backward()\n",
    "\n",
    "    # 5. optimizer step\n",
    "    optimizer.step()\n",
    "\n",
    "    # Testing\n",
    "    model_1.eval()\n",
    "\n",
    "    # 1. Forward pass\n",
    "    with torch.inference_mode(): # Remove torch variables\n",
    "        test_pred = model_1(X_test)\n",
    "\n",
    "        # 2. calculate the loss on testing\n",
    "        test_loss = loss_fn(test_pred, y_test)\n",
    "\n",
    "    \n",
    "    if epoch % 100 == 0:\n",
    "        print(f'Epoch: {epoch} | train loss: {loss} | test loss: {test_loss}')"
   ]
  },
  {
   "cell_type": "code",
   "execution_count": 53,
   "metadata": {},
   "outputs": [
    {
     "name": "stdout",
     "output_type": "stream",
     "text": [
      "ideal bias: 0.2 | ideal weight: 0.9\n",
      "Predicted bias and weights\n"
     ]
    },
    {
     "data": {
      "text/plain": [
       "OrderedDict([('linear_layer.weight', tensor([[0.8936]], device='cuda:0')),\n",
       "             ('linear_layer.bias', tensor([0.1980], device='cuda:0'))])"
      ]
     },
     "execution_count": 53,
     "metadata": {},
     "output_type": "execute_result"
    }
   ],
   "source": [
    "print(f'ideal bias: {bias} | ideal weight: {weight}')\n",
    "print(\"Predicted bias and weights\")\n",
    "model_1.state_dict()"
   ]
  },
  {
   "cell_type": "markdown",
   "metadata": {},
   "source": [
    "##### 6.3 Making predictions"
   ]
  },
  {
   "cell_type": "code",
   "execution_count": 57,
   "metadata": {},
   "outputs": [
    {
     "data": {
      "text/plain": [
       "tensor([[0.9129],\n",
       "        [0.9308],\n",
       "        [0.9486],\n",
       "        [0.9665],\n",
       "        [0.9844],\n",
       "        [1.0023],\n",
       "        [1.0201],\n",
       "        [1.0380],\n",
       "        [1.0559],\n",
       "        [1.0737]], device='cuda:0')"
      ]
     },
     "execution_count": 57,
     "metadata": {},
     "output_type": "execute_result"
    }
   ],
   "source": [
    "model_1.eval()\n",
    "\n",
    "with torch.inference_mode():\n",
    "    y_preds = model_1(X_test)\n",
    "\n",
    "y_preds"
   ]
  },
  {
   "cell_type": "code",
   "execution_count": 58,
   "metadata": {},
   "outputs": [
    {
     "data": {
      "image/png": "[encoded data removed]",
      "text/plain": [
       "<Figure size 1000x700 with 1 Axes>"
      ]
     },
     "metadata": {},
     "output_type": "display_data"
    }
   ],
   "source": [
    "plot_predictions(prediction=y_preds.cpu())"
   ]
  },
  {
   "cell_type": "markdown",
   "metadata": {},
   "source": [
    "##### 6.5 Saving and loading a model"
   ]
  },
  {
   "cell_type": "code",
   "execution_count": 60,
   "metadata": {},
   "outputs": [
    {
     "name": "stdout",
     "output_type": "stream",
     "text": [
      "saving\n"
     ]
    }
   ],
   "source": [
    "from pathlib import Path\n",
    "\n",
    "# 1. Create a model directory\n",
    "MODEL_PATH = Path('models')\n",
    "MODEL_PATH.mkdir(parents=True, exist_ok=True)\n",
    "\n",
    "# 2. Create model save path\n",
    "MODEL_NAME = '0.1_pytorch_workflow_model_1.pth'\n",
    "MODEL_SAVE_PATH = MODEL_PATH / MODEL_NAME\n",
    "\n",
    "# 3. Save model state dict {parameters}\n",
    "print(\"saving\")\n",
    "torch.save(obj=model_1.state_dict(), f=MODEL_SAVE_PATH)"
   ]
  },
  {
   "cell_type": "code",
   "execution_count": 61,
   "metadata": {},
   "outputs": [
    {
     "name": "stdout",
     "output_type": "stream",
     "text": [
      "loaded model state dict: OrderedDict([('linear_layer.weight', tensor([[0.8936]], device='cuda:0')), ('linear_layer.bias', tensor([0.1980], device='cuda:0'))])\n"
     ]
    }
   ],
   "source": [
    "### Loading model\n",
    "\n",
    "# Initialize new model\n",
    "loaded_model_1 = LinearregressionModelV2()\n",
    "\n",
    "# Load state dict into the initialized model\n",
    "loaded_model_1.load_state_dict(torch.load(MODEL_SAVE_PATH))\n",
    "\n",
    "# Change device to 'cuda' if available\n",
    "loaded_model_1.to(device)\n",
    "\n",
    "print(f\"loaded model state dict: {loaded_model_1.state_dict()}\")"
   ]
  },
  {
   "cell_type": "code",
   "execution_count": 63,
   "metadata": {},
   "outputs": [
    {
     "data": {
      "text/plain": [
       "tensor([[True],\n",
       "        [True],\n",
       "        [True],\n",
       "        [True],\n",
       "        [True],\n",
       "        [True],\n",
       "        [True],\n",
       "        [True],\n",
       "        [True],\n",
       "        [True]], device='cuda:0')"
      ]
     },
     "execution_count": 63,
     "metadata": {},
     "output_type": "execute_result"
    }
   ],
   "source": [
    "# Evaluate loaded model\n",
    "loaded_model_1.eval()\n",
    "\n",
    "with torch.inference_mode():\n",
    "    loaded_model_1_preds = loaded_model_1(X_test)\n",
    "\n",
    "y_preds == loaded_model_1_preds"
   ]
  },
  {
   "cell_type": "markdown",
   "metadata": {},
   "source": [
    "## Extra-Curriculum\n",
    "* Listen to The Unofficial PyTorch Optimization Loop Song (to help remember the steps in a PyTorch training/testing loop).\n",
    "* Read What is torch.nn, really? by Jeremy Howard for a deeper understanding of how one of the most important modules in PyTorch works.\n",
    "* Spend 10-minutes scrolling through and checking out the PyTorch documentation cheatsheet for all of the different PyTorch modules you might come across.\n",
    "* Spend 10-minutes reading the loading and saving documentation on the PyTorch website to become more familiar with the different saving and loading options in PyTorch.\n",
    "* Spend 1-2 hours read/watching the following for an overview of the internals of gradient descent and backpropagation, the two main algorithms that have been working in the background to help our model learn.\n",
    "* Wikipedia page for gradient descent\n",
    "* Gradient Descent Algorithm — a deep dive by Robert Kwiatkowski\n",
    "* Gradient descent, how neural networks learn video by 3Blue1Brown\n",
    "* What is backpropagation really doing? video by 3Blue1Brown\n",
    "* Backpropagation Wikipedia Page"
   ]
  },
  {
   "cell_type": "markdown",
   "metadata": {},
   "source": []
  }
 ],
 "metadata": {
  "kernelspec": {
   "display_name": "Python 3",
   "language": "python",
   "name": "python3"
  },
  "language_info": {
   "codemirror_mode": {
    "name": "ipython",
    "version": 3
   },
   "file_extension": ".py",
   "mimetype": "text/x-python",
   "name": "python",
   "nbconvert_exporter": "python",
   "pygments_lexer": "ipython3",
   "version": "3.11.5"
  }
 },
 "nbformat": 4,
 "nbformat_minor": 2
}
